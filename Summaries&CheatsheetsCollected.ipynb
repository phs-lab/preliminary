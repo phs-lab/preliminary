{
  "nbformat": 4,
  "nbformat_minor": 0,
  "metadata": {
    "kernelspec": {
      "name": "python3",
      "display_name": "Python 3"
    },
    "language_info": {
      "codemirror_mode": {
        "name": "ipython",
        "version": 3
      },
      "file_extension": ".py",
      "mimetype": "text/x-python",
      "name": "python",
      "nbconvert_exporter": "python",
      "pygments_lexer": "ipython3",
      "version": "3.6.5"
    },
    "colab": {
      "name": "Summaries&CheatsheetsCollected.ipynb",
      "provenance": [],
      "collapsed_sections": [],
      "toc_visible": true,
      "include_colab_link": true
    }
  },
  "cells": [
    {
      "cell_type": "markdown",
      "metadata": {
        "id": "view-in-github",
        "colab_type": "text"
      },
      "source": [
        "<a href=\"https://colab.research.google.com/github/phs-lab/preliminary/blob/master/Summaries&CheatsheetsCollected.ipynb\" target=\"_parent\"><img src=\"https://colab.research.google.com/assets/colab-badge.svg\" alt=\"Open In Colab\"/></a>"
      ]
    },
    {
      "cell_type": "code",
      "metadata": {
        "id": "qGz81kYjJBjI",
        "colab_type": "code",
        "outputId": "1677ae93-cc73-4846-f3b7-f5d08861a09b",
        "colab": {
          "base_uri": "https://localhost:8080/",
          "height": 70
        }
      },
      "source": [
        "%run -i ./preliminary/myLibClass.py\n",
        "# %run -i D:/Github/repository/myLibClass.py"
      ],
      "execution_count": 0,
      "outputs": [
        {
          "output_type": "stream",
          "text": [
            "▣ 단골 : np, sp, plt, sns, re, os, sys, sqlite3→runSQL(,cursor), pd & 확장(>>: dfply=pdf X사용, plydata=pdp)\n",
            "- %magic, %lsmagic ☞ https://ipython.readthedocs.io/en/stable/interactive/magics.html : ① rpy2 또는 ② SoS\n",
            "- myInfoBundle ★, help(), □? □?? Shift+Tab Shift+Tab(수회), dir(), %whos, [List], (Tuple,), {Set}, {'d':'Dict')\n"
          ],
          "name": "stdout"
        }
      ]
    },
    {
      "cell_type": "markdown",
      "metadata": {
        "id": "YxzPrV9ucCSr",
        "colab_type": "text"
      },
      "source": [
        "# 일반"
      ]
    },
    {
      "cell_type": "markdown",
      "metadata": {
        "id": "Zme-KwWxG-FT",
        "colab_type": "text"
      },
      "source": [
        "▣ python web references : python → numpy → pandas → scikit-learn → keras → tensorflow  \n",
        "+ [python.org](https://docs.python.org/) references &nbsp; &nbsp; ☞ [코딩 도장](https://dojang.io/course/view.php?id=7) &nbsp; [Jump to Python](https://wikidocs.net/book/1)\n",
        "  - [operator precedence](https://docs.python.org/3/reference/expressions.html#operator-precedence), [코딩 도장](https://dojang.io/mod/page/view.php?id=2461)\n",
        "+ numpy\n",
        "+ scipy\n",
        "+ pandas\n",
        "+ scikit-learn\n",
        "  - [chooling the right estimator](https://scikit-learn.org/stable/tutorial/machine_learning_map/index.html)\n",
        "+ keras\n",
        "+ tensorflow"
      ]
    },
    {
      "cell_type": "markdown",
      "metadata": {
        "id": "zG1iaLcKXNRa",
        "colab_type": "text"
      },
      "source": [
        "▣ 유용한 Site URLs  \n",
        "- 마크다운 : [MathJax에서 유용한 Tex 명령어](http://www.onemathematicalcat.org/MathJaxDocumentation/MathJaxKorean/TeXSyntax_ko.html) &nbsp; [위키백과:TeX 문법](https://ko.wikipedia.org/wiki/위키백과:TeX_문법) &nbsp; [MathJax 도움말](http://docs.mathjax.org/en/latest/) &nbsp; [사례](https://blog.naver.com/dkdldoafotn/221679509761)\n",
        "- network diagram : https://networkx.github.io/documentation/latest/tutorial.html\n",
        "- 김태완님 blog : numpy [cheat sheet](http://taewan.kim/post/numpy_cheat_sheet/) [axis](http://taewan.kim/post/numpy_sum_axis/), 머신러닝 [ML](http://taewan.kim/categories/machine-learning/)"
      ]
    },
    {
      "cell_type": "markdown",
      "metadata": {
        "id": "bRPaNOKacRLh",
        "colab_type": "text"
      },
      "source": [
        "# Python"
      ]
    },
    {
      "cell_type": "markdown",
      "metadata": {
        "id": "4fad8qMJdAZO",
        "colab_type": "text"
      },
      "source": [
        "▣ web references : python → numpy → pandas → scikit-learn → keras → tensorflow  \n",
        "+ [python.org](https://docs.python.org/) references &nbsp; &nbsp; ☞ [코딩 도장](https://dojang.io/course/view.php?id=7) &nbsp; [Jump to Python](https://wikidocs.net/book/1)\n",
        "  - [operator precedence](https://docs.python.org/3/reference/expressions.html#operator-precedence), [코딩 도장](https://dojang.io/mod/page/view.php?id=2461)"
      ]
    },
    {
      "cell_type": "code",
      "metadata": {
        "id": "h_ha42ai8zzp",
        "colab_type": "code",
        "outputId": "86d9c6a7-da33-4f6c-fdff-8c6865b2837c",
        "colab": {
          "base_uri": "https://localhost:8080/",
          "height": 34
        }
      },
      "source": [
        "!python --version"
      ],
      "execution_count": 0,
      "outputs": [
        {
          "output_type": "stream",
          "text": [
            "Python 3.6.9\n"
          ],
          "name": "stdout"
        }
      ]
    },
    {
      "cell_type": "code",
      "metadata": {
        "id": "U03JXcjRMAav",
        "colab_type": "code",
        "outputId": "324dba58-81b0-47c0-f33a-737ddff1e4d9",
        "colab": {
          "base_uri": "https://localhost:8080/",
          "height": 386
        }
      },
      "source": [
        "import this"
      ],
      "execution_count": 0,
      "outputs": [
        {
          "output_type": "stream",
          "text": [
            "The Zen of Python, by Tim Peters\n",
            "\n",
            "Beautiful is better than ugly.\n",
            "Explicit is better than implicit.\n",
            "Simple is better than complex.\n",
            "Complex is better than complicated.\n",
            "Flat is better than nested.\n",
            "Sparse is better than dense.\n",
            "Readability counts.\n",
            "Special cases aren't special enough to break the rules.\n",
            "Although practicality beats purity.\n",
            "Errors should never pass silently.\n",
            "Unless explicitly silenced.\n",
            "In the face of ambiguity, refuse the temptation to guess.\n",
            "There should be one-- and preferably only one --obvious way to do it.\n",
            "Although that way may not be obvious at first unless you're Dutch.\n",
            "Now is better than never.\n",
            "Although never is often better than *right* now.\n",
            "If the implementation is hard to explain, it's a bad idea.\n",
            "If the implementation is easy to explain, it may be a good idea.\n",
            "Namespaces are one honking great idea -- let's do more of those!\n"
          ],
          "name": "stdout"
        }
      ]
    },
    {
      "cell_type": "code",
      "metadata": {
        "id": "NBvCPKg-8_9F",
        "colab_type": "code",
        "outputId": "a4a07cd0-72da-4abd-b855-76ded07f3108",
        "colab": {
          "base_uri": "https://localhost:8080/",
          "height": 87
        }
      },
      "source": [
        "import keyword\n",
        "keyword.kwlist.sort()\n",
        "for cnt, item in zip(range(1,len(keyword.kwlist)+1), keyword.kwlist):\n",
        "  print(item) if cnt%9 == 0 else print(item, end='\\t')\n",
        "else:\n",
        "  print('☞ Total', cnt, 'items')"
      ],
      "execution_count": 0,
      "outputs": [
        {
          "output_type": "stream",
          "text": [
            "False\tNone\tTrue\tand\tas\tassert\tbreak\tclass\tcontinue\n",
            "def\tdel\telif\telse\texcept\tfinally\tfor\tfrom\tglobal\n",
            "if\timport\tin\tis\tlambda\tnonlocal\tnot\tor\tpass\n",
            "raise\treturn\ttry\twhile\twith\tyield\t☞ Total 33 items\n"
          ],
          "name": "stdout"
        }
      ]
    },
    {
      "cell_type": "markdown",
      "metadata": {
        "id": "GU9fEF81CPWv",
        "colab_type": "text"
      },
      "source": [
        "append( ), clear( ), remove( ) method가 있는 collection이 mutables인 듯...\n",
        "\n",
        "|구분1   |구분2          |자료형    |컬렉션<Br>(컨테이너)|이질/등질|가변/불변|예시|\n",
        "|:-------|:--------------|:---------|:---------:|:---:|:---:|:----------|\n",
        "|숫자형  |               |bool      | Χ | Χ |불변|    |\n",
        "|        |               |int       | Χ | Χ |불변|    |\n",
        "|        |               |float     | Χ | Χ |불변|    |\n",
        "|        |               |complex   | Χ | Χ |불변|    |\n",
        "|시퀀스형|문자형-텍스트  |str       | ○ |등질|불변|'1행', \"1행\", '''복수 행''', \"\"\"복수 행\"\"\"    |\n",
        "|        |문자형-바이너리|bytes     | ○ |등질|불변|    |\n",
        "|        |문자형-바이너리|bytearray | ○ |등질|***가변***|    |\n",
        "|시퀀스형|               |range     | ○ |등질|불변|range(start,stop,step) `#` start $\\le$ value $\\lt$ stop|\n",
        "|        |               |tuple ( , ) | ○ |***이질***|불변|    |\n",
        "|        |               |list  [ ] | ○ |***이질***|***가변***|    |\n",
        "|매핑형  |               |dict {key:value}| ○ |***이질***|***가변***|    |\n",
        "|집합형  |               |set   { } | ○ |***이질***|***가변***|    |\n",
        "|        |               |frozenset | ○ |***이질***|불변|    |"
      ]
    },
    {
      "cell_type": "markdown",
      "metadata": {
        "id": "Q0aA6pF9PHEb",
        "colab_type": "text"
      },
      "source": [
        "▣ Python control structures  \n",
        "\n",
        "|if - else|for|while|[try](https://dojang.io/mod/page/view.php?id=2398)|\n",
        "|:----|:----|:----|:----|\n",
        "|**if** condition:<Br>&nbsp; &nbsp; expression<Br>**elif** condition:<Br>&nbsp; &nbsp; expression<Br>**else**:<Br>&nbsp; &nbsp; expression<Br><Br>|**for** item **in** *collection*:<Br>&nbsp; &nbsp; expression<Br>**else:** `#` 항상 실행<Br>&nbsp; &nbsp; expression<Br><Br><Br><Br>|**while** condition:<Br>&nbsp; &nbsp; expression<Br>**else:** `#` 항상 실행<Br>&nbsp; &nbsp; expression<Br><Br><Br><Br>|**try:**<Br>&nbsp; &nbsp; expression<Br>**except:** `#` 예외 有, 이름 특정 가능<Br>&nbsp; &nbsp; expression<Br>**else:** `#` 예외 無<Br>&nbsp; &nbsp; expression<Br>**finally:** `#` 항상 실행<Br>&nbsp; &nbsp; expression|"
      ]
    },
    {
      "cell_type": "markdown",
      "metadata": {
        "id": "IYF3iwGOcgLe",
        "colab_type": "text"
      },
      "source": [
        "# numpy"
      ]
    },
    {
      "cell_type": "markdown",
      "metadata": {
        "id": "VhRunf73cik_",
        "colab_type": "text"
      },
      "source": [
        "# scipy"
      ]
    },
    {
      "cell_type": "markdown",
      "metadata": {
        "id": "ROGQigzQckEM",
        "colab_type": "text"
      },
      "source": [
        "# pandas"
      ]
    },
    {
      "cell_type": "markdown",
      "metadata": {
        "id": "Wq3QD4PNcllP",
        "colab_type": "text"
      },
      "source": [
        "# scikit-learn"
      ]
    },
    {
      "cell_type": "markdown",
      "metadata": {
        "id": "8r2RoeHEm6dw",
        "colab_type": "text"
      },
      "source": [
        "![https://scikit-learn.org/stable/tutorial/machine_learning_map/index.html](https://scikit-learn.org/stable/_static/ml_map.png)"
      ]
    },
    {
      "cell_type": "code",
      "metadata": {
        "id": "xQgnFwZQMn58",
        "colab_type": "code",
        "outputId": "6dcf47e2-d960-4436-a1a7-0e79ff7a7813",
        "colab": {
          "base_uri": "https://localhost:8080/",
          "height": 34
        }
      },
      "source": [
        "print(ChooseRightSklearnEstimator(...)) # https://scikit-learn.org/stable/tutorial/machine_learning_map/index.html"
      ],
      "execution_count": 0,
      "outputs": [
        {
          "output_type": "stream",
          "text": [
            "('url for choosing the right estimator', 'https://scikit-learn.org/stable/tutorial/machine_learning_map/index.html')\n"
          ],
          "name": "stdout"
        }
      ]
    },
    {
      "cell_type": "code",
      "metadata": {
        "id": "CHatPR7em37e",
        "colab_type": "code",
        "outputId": "902f7635-6c29-4aec-a354-e030f65acbf7",
        "colab": {
          "base_uri": "https://localhost:8080/",
          "height": 52
        }
      },
      "source": [
        "print(ChooseRightSklearnEstimator(1000, 'C', True)[1])"
      ],
      "execution_count": 0,
      "outputs": [
        {
          "output_type": "stream",
          "text": [
            "Linear SVC\t☞ 잘 안되면,\t(Text면) NaiveBayes,\n",
            "\t\t\t\t(아니면) KNeighborsClassifier ☞ 잘 안되면, SVC 또는 EnsembleClassifiers\n"
          ],
          "name": "stdout"
        }
      ]
    },
    {
      "cell_type": "markdown",
      "metadata": {
        "id": "B9eV9BKHcno3",
        "colab_type": "text"
      },
      "source": [
        "# keras"
      ]
    },
    {
      "cell_type": "markdown",
      "metadata": {
        "id": "HpQq8cy7coaO",
        "colab_type": "text"
      },
      "source": [
        "# tensorflow"
      ]
    },
    {
      "cell_type": "code",
      "metadata": {
        "id": "wNStAPaXK6W1",
        "colab_type": "code",
        "colab": {}
      },
      "source": [
        ""
      ],
      "execution_count": 0,
      "outputs": []
    }
  ]
}
