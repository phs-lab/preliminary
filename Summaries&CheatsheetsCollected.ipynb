{
  "nbformat": 4,
  "nbformat_minor": 0,
  "metadata": {
    "kernelspec": {
      "name": "python3",
      "display_name": "Python 3"
    },
    "language_info": {
      "codemirror_mode": {
        "name": "ipython",
        "version": 3
      },
      "file_extension": ".py",
      "mimetype": "text/x-python",
      "name": "python",
      "nbconvert_exporter": "python",
      "pygments_lexer": "ipython3",
      "version": "3.6.5"
    },
    "colab": {
      "name": "Summaries&CheatsheetsCollected.ipynb",
      "provenance": [],
      "collapsed_sections": [],
      "toc_visible": true,
      "include_colab_link": true
    }
  },
  "cells": [
    {
      "cell_type": "markdown",
      "metadata": {
        "id": "view-in-github",
        "colab_type": "text"
      },
      "source": [
        "<a href=\"https://colab.research.google.com/github/phs-lab/preliminary/blob/master/Summaries%26CheatsheetsCollected.ipynb\" target=\"_parent\"><img src=\"https://colab.research.google.com/assets/colab-badge.svg\" alt=\"Open In Colab\"/></a>"
      ]
    },
    {
      "cell_type": "code",
      "metadata": {
        "colab": {
          "base_uri": "https://localhost:8080/"
        },
        "id": "qfhQJ18XNCEg",
        "outputId": "7838ba1a-fc3e-4122-a4c2-77ad34d66357"
      },
      "source": [
        "!git clone \"https://github.com/phs-lab/preliminary.git\""
      ],
      "execution_count": 1,
      "outputs": [
        {
          "output_type": "stream",
          "text": [
            "Cloning into 'preliminary'...\n",
            "remote: Enumerating objects: 6, done.\u001b[K\n",
            "remote: Counting objects: 100% (6/6), done.\u001b[K\n",
            "remote: Compressing objects: 100% (6/6), done.\u001b[K\n",
            "remote: Total 219 (delta 1), reused 0 (delta 0), pack-reused 213\u001b[K\n",
            "Receiving objects: 100% (219/219), 4.01 MiB | 3.34 MiB/s, done.\n",
            "Resolving deltas: 100% (94/94), done.\n"
          ],
          "name": "stdout"
        }
      ]
    },
    {
      "cell_type": "code",
      "metadata": {
        "id": "qGz81kYjJBjI",
        "colab": {
          "base_uri": "https://localhost:8080/"
        },
        "outputId": "44ee44e1-074e-432e-ed95-fe34c3b04e6a"
      },
      "source": [
        "%run -i ./preliminary/myLibClass.py\n",
        "# %run -i D:/Github/repository/myLibClass.py"
      ],
      "execution_count": 2,
      "outputs": [
        {
          "output_type": "stream",
          "text": [
            "▣ 자주 사용하는 Python Module : np, sp, plt, sns, os, re, sys, sklearn, sqlite3→runSQL(,cursor), pd ☞ my.fum() \n",
            "    - %magic, %lsmagic %pinfo %env %store %%script ☞ https://ipython.readthedocs.io/en/stable/interactive/magics.html \n",
            "    - myLibInfo ★, help(), □? □?? Shift+Tab Shift+Tab(수회),dir(),%whos,[List],(Tuple,),{Set},{'d':'Dict'}\n",
            "【rpy2】 3.2.7 : 최초⇒'%load_ext rpy2.ipython', 다시 load(내부 R 세션 시작)⇒'%reload_ext rpy2.ipython'; %Rㆍ%%R == ro.r('R Script')\n",
            " %Rget,%R -i,%Rpush ⇔ %R -o,%Rpull ☞『df』 ①py⇒r:ro.r.assign('R.df',ro.pandas2ri.py2ri(PYdf)), ②r⇒py:PYdf=ro.pandas2ri.ri2py(R.df)\n"
          ],
          "name": "stdout"
        }
      ]
    },
    {
      "cell_type": "markdown",
      "metadata": {
        "id": "bRPaNOKacRLh"
      },
      "source": [
        "# Python"
      ]
    },
    {
      "cell_type": "markdown",
      "metadata": {
        "id": "YxzPrV9ucCSr"
      },
      "source": [
        "## 일반"
      ]
    },
    {
      "cell_type": "markdown",
      "metadata": {
        "id": "Zme-KwWxG-FT"
      },
      "source": [
        "▣ python web references : python → numpy → pandas → sqlite → pycaret → scikit-learn → auto-keras → keras → tensorflow  \n",
        "+ [python.org](https://docs.python.org/) references &nbsp; &nbsp; ☞ [코딩 도장](https://dojang.io/course/view.php?id=7) &nbsp; [Jump to Python](https://wikidocs.net/book/1)\n",
        "  - [operator precedence](https://docs.python.org/3/reference/expressions.html#operator-precedence), [코딩 도장](https://dojang.io/mod/page/view.php?id=2461)\n",
        "+ numpy\n",
        "+ scipy\n",
        "+ pandas\n",
        "+ scikit-learn\n",
        "  - [chooling the right estimator](https://scikit-learn.org/stable/tutorial/machine_learning_map/index.html)\n",
        "+ keras\n",
        "+ tensorflow"
      ]
    },
    {
      "cell_type": "markdown",
      "metadata": {
        "id": "zG1iaLcKXNRa"
      },
      "source": [
        "▣ 유용한 Site URLs  \n",
        "- 마크다운 : [MathJax에서 유용한 Tex 명령어](http://www.onemathematicalcat.org/MathJaxDocumentation/MathJaxKorean/TeXSyntax_ko.html) &nbsp; [위키백과:TeX 문법](https://ko.wikipedia.org/wiki/위키백과:TeX_문법) &nbsp; [MathJax 도움말](http://docs.mathjax.org/en/latest/) &nbsp; [사례](https://blog.naver.com/dkdldoafotn/221679509761)\n",
        "- network diagram : https://networkx.github.io/documentation/latest/tutorial.html\n",
        "- 김태완님 blog : numpy [cheat sheet](http://taewan.kim/post/numpy_cheat_sheet/) [axis](http://taewan.kim/post/numpy_sum_axis/), 머신러닝 [ML](http://taewan.kim/categories/machine-learning/)"
      ]
    },
    {
      "cell_type": "code",
      "metadata": {
        "id": "h_ha42ai8zzp",
        "colab": {
          "base_uri": "https://localhost:8080/",
          "height": 34
        },
        "outputId": "86d9c6a7-da33-4f6c-fdff-8c6865b2837c"
      },
      "source": [
        "!python --version"
      ],
      "execution_count": null,
      "outputs": [
        {
          "output_type": "stream",
          "text": [
            "Python 3.6.9\n"
          ],
          "name": "stdout"
        }
      ]
    },
    {
      "cell_type": "code",
      "metadata": {
        "id": "U03JXcjRMAav",
        "colab": {
          "base_uri": "https://localhost:8080/",
          "height": 386
        },
        "outputId": "324dba58-81b0-47c0-f33a-737ddff1e4d9"
      },
      "source": [
        "import this"
      ],
      "execution_count": null,
      "outputs": [
        {
          "output_type": "stream",
          "text": [
            "The Zen of Python, by Tim Peters\n",
            "\n",
            "Beautiful is better than ugly.\n",
            "Explicit is better than implicit.\n",
            "Simple is better than complex.\n",
            "Complex is better than complicated.\n",
            "Flat is better than nested.\n",
            "Sparse is better than dense.\n",
            "Readability counts.\n",
            "Special cases aren't special enough to break the rules.\n",
            "Although practicality beats purity.\n",
            "Errors should never pass silently.\n",
            "Unless explicitly silenced.\n",
            "In the face of ambiguity, refuse the temptation to guess.\n",
            "There should be one-- and preferably only one --obvious way to do it.\n",
            "Although that way may not be obvious at first unless you're Dutch.\n",
            "Now is better than never.\n",
            "Although never is often better than *right* now.\n",
            "If the implementation is hard to explain, it's a bad idea.\n",
            "If the implementation is easy to explain, it may be a good idea.\n",
            "Namespaces are one honking great idea -- let's do more of those!\n"
          ],
          "name": "stdout"
        }
      ]
    },
    {
      "cell_type": "code",
      "metadata": {
        "id": "NBvCPKg-8_9F",
        "colab": {
          "base_uri": "https://localhost:8080/",
          "height": 87
        },
        "outputId": "a4a07cd0-72da-4abd-b855-76ded07f3108"
      },
      "source": [
        "import keyword\n",
        "keyword.kwlist.sort()\n",
        "for cnt, item in zip(range(1,len(keyword.kwlist)+1), keyword.kwlist):\n",
        "  print(item) if cnt%9 == 0 else print(item, end='\\t')\n",
        "else:\n",
        "  print('☞ Total', cnt, 'items')"
      ],
      "execution_count": null,
      "outputs": [
        {
          "output_type": "stream",
          "text": [
            "False\tNone\tTrue\tand\tas\tassert\tbreak\tclass\tcontinue\n",
            "def\tdel\telif\telse\texcept\tfinally\tfor\tfrom\tglobal\n",
            "if\timport\tin\tis\tlambda\tnonlocal\tnot\tor\tpass\n",
            "raise\treturn\ttry\twhile\twith\tyield\t☞ Total 33 items\n"
          ],
          "name": "stdout"
        }
      ]
    },
    {
      "cell_type": "markdown",
      "metadata": {
        "id": "GU9fEF81CPWv"
      },
      "source": [
        "append( ), clear( ), remove( ) method가 있는 collection이 mutables인 듯...\n",
        "\n",
        "|구분1   |구분2          |자료형    |컬렉션<Br>(컨테이너)|이질/등질|가변/불변|예시|\n",
        "|:-------|:--------------|:---------|:---------:|:---:|:---:|:----------|\n",
        "|숫자형  |               |bool      | Χ | Χ |불변|    |\n",
        "|        |               |int       | Χ | Χ |불변|    |\n",
        "|        |               |float     | Χ | Χ |불변|    |\n",
        "|        |               |complex   | Χ | Χ |불변|    |\n",
        "|시퀀스형|문자형-텍스트  |str       | ○ |등질|불변|'1행', \"1행\", '''복수 행''', \"\"\"복수 행\"\"\"    |\n",
        "|        |문자형-바이너리|bytes     | ○ |등질|불변|    |\n",
        "|        |문자형-바이너리|bytearray | ○ |등질|***가변***|    |\n",
        "|시퀀스형|               |range     | ○ |등질|불변|range(start,stop,step) `#` start $\\le$ value $\\lt$ stop|\n",
        "|        |               |tuple ( , ) | ○ |***이질***|불변|    |\n",
        "|        |               |list  [ ] | ○ |***이질***|***가변***|    |\n",
        "|매핑형  |               |dict {key:value}| ○ |***이질***|***가변***|    |\n",
        "|집합형  |               |set   { } | ○ |***이질***|***가변***|    |\n",
        "|        |               |frozenset | ○ |***이질***|불변|    |"
      ]
    },
    {
      "cell_type": "markdown",
      "metadata": {
        "id": "Q0aA6pF9PHEb"
      },
      "source": [
        "▣ Python control structures  \n",
        "\n",
        "|if - else|for|while|[try](https://dojang.io/mod/page/view.php?id=2398)|\n",
        "|:----|:----|:----|:----|\n",
        "|**if** condition:<Br>&nbsp; &nbsp; expression<Br>**elif** condition:<Br>&nbsp; &nbsp; expression<Br>**else**:<Br>&nbsp; &nbsp; expression<Br><Br>|**for** item **in** *collection*:<Br>&nbsp; &nbsp; expression<Br>**else:** `#` 항상 실행<Br>&nbsp; &nbsp; expression<Br><Br><Br><Br>|**while** condition:<Br>&nbsp; &nbsp; expression<Br>**else:** `#` 항상 실행<Br>&nbsp; &nbsp; expression<Br><Br><Br><Br>|**try:**<Br>&nbsp; &nbsp; expression<Br>**except:** `#` 예외 有, 이름 특정 가능<Br>&nbsp; &nbsp; expression<Br>**else:** `#` 예외 無<Br>&nbsp; &nbsp; expression<Br>**finally:** `#` 항상 실행<Br>&nbsp; &nbsp; expression|"
      ]
    },
    {
      "cell_type": "markdown",
      "metadata": {
        "id": "IYF3iwGOcgLe"
      },
      "source": [
        "## numpy"
      ]
    },
    {
      "cell_type": "markdown",
      "metadata": {
        "id": "VhRunf73cik_"
      },
      "source": [
        "## scipy"
      ]
    },
    {
      "cell_type": "markdown",
      "metadata": {
        "id": "TeTQKQ-8oRIt"
      },
      "source": [
        "## sympy"
      ]
    },
    {
      "cell_type": "markdown",
      "metadata": {
        "id": "ROGQigzQckEM"
      },
      "source": [
        "## pandas"
      ]
    },
    {
      "cell_type": "markdown",
      "metadata": {
        "id": "HotSl1cooMzf"
      },
      "source": [
        "## pycaret"
      ]
    },
    {
      "cell_type": "markdown",
      "metadata": {
        "id": "Wq3QD4PNcllP"
      },
      "source": [
        "## scikit-learn"
      ]
    },
    {
      "cell_type": "markdown",
      "metadata": {
        "id": "8r2RoeHEm6dw"
      },
      "source": [
        "![https://scikit-learn.org/stable/tutorial/machine_learning_map/index.html](https://scikit-learn.org/stable/_static/ml_map.png)"
      ]
    },
    {
      "cell_type": "code",
      "metadata": {
        "id": "xQgnFwZQMn58",
        "colab": {
          "base_uri": "https://localhost:8080/",
          "height": 34
        },
        "outputId": "6dcf47e2-d960-4436-a1a7-0e79ff7a7813"
      },
      "source": [
        "print(ChooseRightSklearnEstimator(...)) # https://scikit-learn.org/stable/tutorial/machine_learning_map/index.html"
      ],
      "execution_count": null,
      "outputs": [
        {
          "output_type": "stream",
          "text": [
            "('url for choosing the right estimator', 'https://scikit-learn.org/stable/tutorial/machine_learning_map/index.html')\n"
          ],
          "name": "stdout"
        }
      ]
    },
    {
      "cell_type": "code",
      "metadata": {
        "id": "CHatPR7em37e",
        "colab": {
          "base_uri": "https://localhost:8080/",
          "height": 52
        },
        "outputId": "902f7635-6c29-4aec-a354-e030f65acbf7"
      },
      "source": [
        "print(ChooseRightSklearnEstimator(1000, 'C', True)[1])"
      ],
      "execution_count": null,
      "outputs": [
        {
          "output_type": "stream",
          "text": [
            "Linear SVC\t☞ 잘 안되면,\t(Text면) NaiveBayes,\n",
            "\t\t\t\t(아니면) KNeighborsClassifier ☞ 잘 안되면, SVC 또는 EnsembleClassifiers\n"
          ],
          "name": "stdout"
        }
      ]
    },
    {
      "cell_type": "markdown",
      "metadata": {
        "id": "B9eV9BKHcno3"
      },
      "source": [
        "## keras"
      ]
    },
    {
      "cell_type": "markdown",
      "metadata": {
        "id": "HpQq8cy7coaO"
      },
      "source": [
        "## tensorflow"
      ]
    },
    {
      "cell_type": "markdown",
      "metadata": {
        "id": "ocr-lS0ZOdgr"
      },
      "source": [
        "# R"
      ]
    },
    {
      "cell_type": "code",
      "metadata": {
        "id": "0XNAQiiYoh27"
      },
      "source": [
        "# ① 최초 Session : %load_ext rpy2.ipython ; ② Session 재시작 : %reload_ext rpy2.ipython\n",
        "%load_ext rpy2.ipython"
      ],
      "execution_count": null,
      "outputs": []
    },
    {
      "cell_type": "markdown",
      "metadata": {
        "id": "4zW2Dc8VXeJc"
      },
      "source": [
        "## Base R\n",
        "\n",
        "* https://rstudio.com/resources/cheatsheets/\n",
        "* https://rfriend.tistory.com/14"
      ]
    },
    {
      "cell_type": "markdown",
      "metadata": {
        "id": "FmtNctPeXtx5"
      },
      "source": [
        "### Getting Help\n",
        "#### Accessing the help files\n",
        "- ?mean # get help of a particular function 'mean'.\n",
        "- help.search('weighted mean') # Search the help files for a word or phrase.\n",
        "- help(package='dplyr') # Find help for a package.  \n",
        "\n",
        "#### More about an object\n",
        "- str(iris) # Get a summary of an object’s structure.\n",
        "- class(iris) # Find the class an object belongs to."
      ]
    },
    {
      "cell_type": "markdown",
      "metadata": {
        "id": "JpsxkgjoYo8I"
      },
      "source": [
        "### Using Packages\n",
        "- install.packages('dplyr') # Download and install a package from CRAN.\n",
        "- library(dplyr) # Load the package into the session, making all its functions available to use.\n",
        "- require(dplyr) # library와 같은 효과. Return값으로 실행 결과 판단 가능.\n",
        "- dplyr::select # Use a particular function from a package.\n",
        "- data(iris) # Load a built-in dataset into the environment."
      ]
    },
    {
      "cell_type": "markdown",
      "metadata": {
        "id": "nQNdW_NeZGe0"
      },
      "source": [
        "### Working Directory\n",
        "- getwd() : Find the current working directory (where\n",
        "inputs are found and outputs are sent).\n",
        "- setwd('C://file/path') # Change the current working directory.\n",
        "\n",
        "&nbsp; &nbsp; &nbsp; Use projects in RStudio to set the working directory to the folder you are working in."
      ]
    },
    {
      "cell_type": "markdown",
      "metadata": {
        "id": "gyS8eoW3lEhd"
      },
      "source": [
        "### The Environment\n",
        "- ls() # List all variables in the environment.\n",
        "- rm(x) # Remove x from the environment.\n",
        "- rm(list = ls()) # Remove all variables from the environment.\n",
        "\n",
        "&nbsp; &nbsp; &nbsp; You can use the environment panel in RStudio to browse variables in your environment."
      ]
    },
    {
      "cell_type": "markdown",
      "metadata": {
        "id": "OVFAZE93kl6f"
      },
      "source": [
        "### Variable Assignment\n",
        "```R\n",
        "> a <- 'apple' # 문자열 'apple'을 변수 a에 할당. 『 a = 'apple' 』도 같은 표현임.\n",
        "> a\n",
        "  [1] 'apple'\n",
        "```"
      ]
    },
    {
      "cell_type": "markdown",
      "metadata": {
        "id": "5yauCAOpeoSM"
      },
      "source": [
        "![https://rfriend.tistory.com/14](https://t1.daumcdn.net/cfile/tistory/230EBE375672CF0337)"
      ]
    },
    {
      "cell_type": "markdown",
      "metadata": {
        "id": "mky0a59qZW6a"
      },
      "source": [
        "### Vectors\n",
        "#### Creating Vectors\n",
        "|R Script|Result|Explanation|\n",
        "|:---|:---|:---|\n",
        "|c(2, 4, 6)|2 4 6|Join elements into a vector|\n",
        "|2:6|2 3 4 5 6|An integer sequence|\n",
        "|seq(2, 3, by=0.5)|2.0 2.5 3.0|A complex sequence|\n",
        "|rep(1:2, times=3)|1 2 1 2 1 2|Repeat a vector   |\n",
        "|rep(1:2, each=3) |1 1 1 2 2 2|Repeat elements of a vector|\n",
        "\n",
        "#### Vector Functions\n",
        "|sort(x)|rev(x)|table(x)|unique(x)|\n",
        "|:---|:---|:---|:---|\n",
        "|Return x sorted.|Return x reversed.|See counts of values.|See unique values.|\n",
        "\n",
        "#### Selecting Vector Elemnets\n",
        "|By Position||By Value||Named Vectors||\n",
        "|:---|:---|:---|:---|:---|:---|\n",
        "|x[4]|The fourth element.|x[x == 10]|Elements which are equal to 10.|x['apple']|Element with name 'apple'.|\n",
        "|x[-4]|All but the fourth.|x[x < 0]|All elements less than zero.|||\n",
        "|x[2:4]|Elements two to four.|x[x %in% c(1, 2, 5)]|Elements in the set 1, 2, 5.|||\n",
        "|x[-(2:4)]|All elements except two to four.|||||\n",
        "|x[c(1, 5)]|Elements one and five.|||||"
      ]
    },
    {
      "cell_type": "markdown",
      "metadata": {
        "id": "PHcvZ0h3dMPP"
      },
      "source": [
        "### Matrices\n",
        "\n",
        "|Matrices Handling|Explanation|Matrices Handling|Explanation|\n",
        "|:---|:---|:---|:---|\n",
        "|m <- matrix(x, nrow = 3, ncol = 3)|Create a matrix from x.|||\n",
        "|m[2, ]|Select a row     |t(m)      |Transpose            |\n",
        "|m[ ,1]|Select a column  |m %*% n   |Matrix Multiplication|\n",
        "|m[2,3]|Select an element|solve(m,n)|Find x in: m * x = n |"
      ]
    },
    {
      "cell_type": "markdown",
      "metadata": {
        "id": "m15Ca_tRdNyH"
      },
      "source": [
        "### Lists"
      ]
    },
    {
      "cell_type": "markdown",
      "metadata": {
        "id": "g2H1IJw-dPXo"
      },
      "source": [
        "### Data Frames"
      ]
    },
    {
      "cell_type": "markdown",
      "metadata": {
        "id": "OteUYwpmdSLB"
      },
      "source": [
        "### Strings"
      ]
    },
    {
      "cell_type": "markdown",
      "metadata": {
        "id": "ra_gooaedTkF"
      },
      "source": [
        "### Factors"
      ]
    },
    {
      "cell_type": "markdown",
      "metadata": {
        "id": "9Uo21NW1c6aK"
      },
      "source": [
        "### Types"
      ]
    },
    {
      "cell_type": "markdown",
      "metadata": {
        "id": "HoJS7IxAczra"
      },
      "source": [
        "### Programming\n",
        "||for Loop|while Loop|if Statements|function|Conditions|\n",
        "|:---|:---|:---|:---|:---|:---|\n",
        "|Syntax<Br><Br><Br><Br><Br>|for (variable in sequence) {<Br>&nbsp; &nbsp; Do something<Br>}<Br><Br><Br>|while (condition){<Br>&nbsp; &nbsp; Do something<Br>}<Br><Br><Br>|if (condition) {<Br>&nbsp; &nbsp; Do something<Br>} else {<Br>&nbsp; &nbsp; Do something different<Br>}|function_name <- function(var {<Br>&nbsp; &nbsp; Do something<Br>&nbsp; &nbsp; return(new_variable)<Br>}<Br><Br>|a == b<Br>a > b<Br>a >= b<Br>is.na(a) # is 'a' missing?<Br><Br>|\n",
        "|Example<Br><Br><Br><Br><Br>|for (i in 1:4) {<Br>&nbsp; &nbsp; j <- i + 10<Br>&nbsp; &nbsp; print(j)<Br>}<Br><Br>|while (i < 5) {<Br>&nbsp; &nbsp; print(i)<Br>&nbsp; &nbsp; i <- i + 1<Br>}<Br><Br>|if (i > 3) {<Br>&nbsp; &nbsp; print(‘Yes’)<Br>} else {<Br>&nbsp; &nbsp; print(‘No’)<Br>}|square <- function(x) {<Br>&nbsp; &nbsp; squared <- x*x<Br>&nbsp; &nbsp; return(squared)<Br>}<Br><Br>|a != b<Br>a < b<Br>a <= b<Br>is.null(a) # is 'a' null?<Br><Br>|"
      ]
    },
    {
      "cell_type": "markdown",
      "metadata": {
        "id": "oHMttE2Pc1qB"
      },
      "source": [
        "### Reading & Writing Data  \n",
        "- Also see the readr package.\n",
        "\n",
        "|Input|Output|Description|\n",
        "|:---|:---|:---|\n",
        "|df <- read.table(‘file.txt')|write.table(df, ‘file.txt')|Read and write a delimited text file.|\n",
        "|df <- read.csv(‘file.csv')|write.csv(df, ‘file.csv')|Read and write a comma separated value file. This is a special case of read.table/write.table.|\n",
        "|load(‘file.RData')|save(df, file = 'file.Rdata')|Read and write an R data file, a file type special for R.|"
      ]
    },
    {
      "cell_type": "markdown",
      "metadata": {
        "id": "l_Ot3TFtdFuy"
      },
      "source": [
        "### Math Functions"
      ]
    },
    {
      "cell_type": "markdown",
      "metadata": {
        "id": "ErHZomT_dbd8"
      },
      "source": [
        "### Statistics\n",
        "- lm(y ~ x, data=df) # Linear model.\n",
        "- glm(y ~ x, data=df) # Generalised linear model.\n",
        "- summary(result) # Get more detailed information out a model.\n",
        "- t.test(x, y) # Perform a t-test for difference between means.\n",
        "- pairwise.t.test # Perform a t-test for paired data.\n",
        "- prop.test # Test for a difference between proportions.\n",
        "- aov # Analysis of variance."
      ]
    },
    {
      "cell_type": "markdown",
      "metadata": {
        "id": "xOdnGkg2dc9-"
      },
      "source": [
        "### Distributions\n",
        "\n",
        "||Random Variates|Density Function|Cumulative Distribution|Quantile|\n",
        "|:---:|:---:|:---:|:---:|:---:|\n",
        "|Normal|rnorm|dnorm|pnorm|qnorm|\n",
        "|Poisson|rpois|dpois|ppois|qpois|\n",
        "|Binomial|rbinom|dbinom|pbinom|qbinom|\n",
        "|Uniform|runif|dunif|punif|qunif|"
      ]
    },
    {
      "cell_type": "markdown",
      "metadata": {
        "id": "10QILaEnmBSU"
      },
      "source": [
        "## Advanced R\n",
        "\n",
        "* https://rstudio.com/resources/cheatsheets/"
      ]
    },
    {
      "cell_type": "markdown",
      "metadata": {
        "id": "c3g9BR2jnl6x"
      },
      "source": [
        "## Syntax Comparison"
      ]
    },
    {
      "cell_type": "markdown",
      "metadata": {
        "id": "2-4XiigPnVRd"
      },
      "source": [
        "## data.table"
      ]
    },
    {
      "cell_type": "markdown",
      "metadata": {
        "id": "K9dWtx2wmyI5"
      },
      "source": [
        "## stringr"
      ]
    },
    {
      "cell_type": "markdown",
      "metadata": {
        "id": "Jx50zXjynfaZ"
      },
      "source": [
        "## Basic Regular Expressions"
      ]
    },
    {
      "cell_type": "markdown",
      "metadata": {
        "id": "88yN4UJInA3L"
      },
      "source": [
        "## dplyr : Data Transformation"
      ]
    },
    {
      "cell_type": "markdown",
      "metadata": {
        "id": "kb6wi97Cn9QF"
      },
      "source": [
        "## tidyverse"
      ]
    },
    {
      "cell_type": "markdown",
      "metadata": {
        "id": "n6t6iWPVnIXv"
      },
      "source": [
        "## ggplot2 : Data Visualization"
      ]
    },
    {
      "cell_type": "markdown",
      "metadata": {
        "id": "5BnMEpA4m4nx"
      },
      "source": [
        "## purrr : apply functions"
      ]
    },
    {
      "cell_type": "markdown",
      "metadata": {
        "id": "_SlAdTJBnY84"
      },
      "source": [
        "## caret"
      ]
    },
    {
      "cell_type": "markdown",
      "metadata": {
        "id": "WjzXeg17n2V_"
      },
      "source": [
        "## tidymodels"
      ]
    },
    {
      "cell_type": "markdown",
      "metadata": {
        "id": "wkrpyniLmvHe"
      },
      "source": [
        "## keras"
      ]
    },
    {
      "cell_type": "markdown",
      "metadata": {
        "id": "ckn4DwEbnMc-"
      },
      "source": [
        "## devtools : Package Development"
      ]
    }
  ]
}