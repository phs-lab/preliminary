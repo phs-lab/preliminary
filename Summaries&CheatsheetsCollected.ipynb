{
  "nbformat": 4,
  "nbformat_minor": 0,
  "metadata": {
    "kernelspec": {
      "name": "python3",
      "display_name": "Python 3"
    },
    "language_info": {
      "codemirror_mode": {
        "name": "ipython",
        "version": 3
      },
      "file_extension": ".py",
      "mimetype": "text/x-python",
      "name": "python",
      "nbconvert_exporter": "python",
      "pygments_lexer": "ipython3",
      "version": "3.6.5"
    },
    "colab": {
      "name": "Summaries&CheatsheetsCollected.ipynb",
      "provenance": [],
      "collapsed_sections": [],
      "toc_visible": true,
      "include_colab_link": true
    }
  },
  "cells": [
    {
      "cell_type": "markdown",
      "metadata": {
        "id": "view-in-github",
        "colab_type": "text"
      },
      "source": [
        "<a href=\"https://colab.research.google.com/github/phs-lab/preliminary/blob/master/Summaries%26CheatsheetsCollected.ipynb\" target=\"_parent\"><img src=\"https://colab.research.google.com/assets/colab-badge.svg\" alt=\"Open In Colab\"/></a>"
      ]
    },
    {
      "cell_type": "code",
      "metadata": {
        "colab": {
          "base_uri": "https://localhost:8080/"
        },
        "id": "qfhQJ18XNCEg",
        "outputId": "d49227c5-f95f-41f0-d3d4-928e23fbc0a1"
      },
      "source": [
        "!git clone \"https://github.com/phs-lab/preliminary.git\""
      ],
      "execution_count": 1,
      "outputs": [
        {
          "output_type": "stream",
          "text": [
            "Cloning into 'preliminary'...\n",
            "remote: Enumerating objects: 42, done.\u001b[K\n",
            "remote: Counting objects: 100% (42/42), done.\u001b[K\n",
            "remote: Compressing objects: 100% (42/42), done.\u001b[K\n",
            "remote: Total 255 (delta 25), reused 0 (delta 0), pack-reused 213\u001b[K\n",
            "Receiving objects: 100% (255/255), 4.02 MiB | 3.33 MiB/s, done.\n",
            "Resolving deltas: 100% (118/118), done.\n"
          ],
          "name": "stdout"
        }
      ]
    },
    {
      "cell_type": "code",
      "metadata": {
        "id": "qGz81kYjJBjI",
        "colab": {
          "base_uri": "https://localhost:8080/"
        },
        "outputId": "580558b7-6502-469b-f34a-1d658ba819d4"
      },
      "source": [
        "%run -i ./preliminary/myLibClass.py\n",
        "# %run -i D:/Github/repository/myLibClass.py"
      ],
      "execution_count": 2,
      "outputs": [
        {
          "output_type": "stream",
          "text": [
            "▣ 자주 사용하는 Python Module : np, sp, plt, sns, os, re, sys, sklearn, sqlite3→runSQL(,cursor), pd ☞ my.fum() \n",
            "    - %magic, %lsmagic %pinfo %env %store %%script ☞ https://ipython.readthedocs.io/en/stable/interactive/magics.html \n",
            "    - myLibInfo ★, help(), □? □?? Shift+Tab Shift+Tab(수회),dir(),%whos,[List],(Tuple,),{Set},{'d':'Dict'}\n",
            "【rpy2】 3.2.7 : 최초⇒'%load_ext rpy2.ipython', 다시 load(내부 R 세션 시작)⇒'%reload_ext rpy2.ipython'; %Rㆍ%%R == ro.r('R Script')\n",
            " %Rget,%R -i,%Rpush ⇔ %R -o,%Rpull ☞『df』 ①py⇒r:ro.r.assign('R.df',ro.pandas2ri.py2ri(PYdf)), ②r⇒py:PYdf=ro.pandas2ri.ri2py(R.df)\n"
          ],
          "name": "stdout"
        }
      ]
    },
    {
      "cell_type": "markdown",
      "metadata": {
        "id": "bRPaNOKacRLh"
      },
      "source": [
        "# Python"
      ]
    },
    {
      "cell_type": "markdown",
      "metadata": {
        "id": "YxzPrV9ucCSr"
      },
      "source": [
        "## 일반"
      ]
    },
    {
      "cell_type": "markdown",
      "metadata": {
        "id": "Zme-KwWxG-FT"
      },
      "source": [
        "▣ python web references : python → numpy → pandas → sqlite → pycaret → scikit-learn → auto-keras → keras → tensorflow  \n",
        "+ [python.org](https://docs.python.org/) references &nbsp; &nbsp; ☞ [코딩 도장](https://dojang.io/course/view.php?id=7) &nbsp; [Jump to Python](https://wikidocs.net/book/1)\n",
        "  - [operator precedence](https://docs.python.org/3/reference/expressions.html#operator-precedence), [코딩 도장](https://dojang.io/mod/page/view.php?id=2461)\n",
        "+ numpy\n",
        "+ scipy\n",
        "+ pandas\n",
        "+ scikit-learn\n",
        "  - [chooling the right estimator](https://scikit-learn.org/stable/tutorial/machine_learning_map/index.html)\n",
        "+ keras\n",
        "+ tensorflow"
      ]
    },
    {
      "cell_type": "markdown",
      "metadata": {
        "id": "zG1iaLcKXNRa"
      },
      "source": [
        "▣ 유용한 Site URLs  \n",
        "- 마크다운 : [MathJax에서 유용한 Tex 명령어](http://www.onemathematicalcat.org/MathJaxDocumentation/MathJaxKorean/TeXSyntax_ko.html) &nbsp; [위키백과:TeX 문법](https://ko.wikipedia.org/wiki/위키백과:TeX_문법) &nbsp; [MathJax 도움말](http://docs.mathjax.org/en/latest/) &nbsp; [사례](https://blog.naver.com/dkdldoafotn/221679509761)\n",
        "- network diagram : https://networkx.github.io/documentation/latest/tutorial.html\n",
        "- 김태완님 blog : numpy [cheat sheet](http://taewan.kim/post/numpy_cheat_sheet/) [axis](http://taewan.kim/post/numpy_sum_axis/), 머신러닝 [ML](http://taewan.kim/categories/machine-learning/)"
      ]
    },
    {
      "cell_type": "code",
      "metadata": {
        "id": "h_ha42ai8zzp",
        "colab": {
          "base_uri": "https://localhost:8080/",
          "height": 34
        },
        "outputId": "86d9c6a7-da33-4f6c-fdff-8c6865b2837c"
      },
      "source": [
        "!python --version"
      ],
      "execution_count": null,
      "outputs": [
        {
          "output_type": "stream",
          "text": [
            "Python 3.6.9\n"
          ],
          "name": "stdout"
        }
      ]
    },
    {
      "cell_type": "code",
      "metadata": {
        "id": "U03JXcjRMAav",
        "colab": {
          "base_uri": "https://localhost:8080/",
          "height": 386
        },
        "outputId": "324dba58-81b0-47c0-f33a-737ddff1e4d9"
      },
      "source": [
        "import this"
      ],
      "execution_count": null,
      "outputs": [
        {
          "output_type": "stream",
          "text": [
            "The Zen of Python, by Tim Peters\n",
            "\n",
            "Beautiful is better than ugly.\n",
            "Explicit is better than implicit.\n",
            "Simple is better than complex.\n",
            "Complex is better than complicated.\n",
            "Flat is better than nested.\n",
            "Sparse is better than dense.\n",
            "Readability counts.\n",
            "Special cases aren't special enough to break the rules.\n",
            "Although practicality beats purity.\n",
            "Errors should never pass silently.\n",
            "Unless explicitly silenced.\n",
            "In the face of ambiguity, refuse the temptation to guess.\n",
            "There should be one-- and preferably only one --obvious way to do it.\n",
            "Although that way may not be obvious at first unless you're Dutch.\n",
            "Now is better than never.\n",
            "Although never is often better than *right* now.\n",
            "If the implementation is hard to explain, it's a bad idea.\n",
            "If the implementation is easy to explain, it may be a good idea.\n",
            "Namespaces are one honking great idea -- let's do more of those!\n"
          ],
          "name": "stdout"
        }
      ]
    },
    {
      "cell_type": "code",
      "metadata": {
        "id": "NBvCPKg-8_9F",
        "colab": {
          "base_uri": "https://localhost:8080/",
          "height": 87
        },
        "outputId": "a4a07cd0-72da-4abd-b855-76ded07f3108"
      },
      "source": [
        "import keyword\n",
        "keyword.kwlist.sort()\n",
        "for cnt, item in zip(range(1,len(keyword.kwlist)+1), keyword.kwlist):\n",
        "  print(item) if cnt%9 == 0 else print(item, end='\\t')\n",
        "else:\n",
        "  print('☞ Total', cnt, 'items')"
      ],
      "execution_count": null,
      "outputs": [
        {
          "output_type": "stream",
          "text": [
            "False\tNone\tTrue\tand\tas\tassert\tbreak\tclass\tcontinue\n",
            "def\tdel\telif\telse\texcept\tfinally\tfor\tfrom\tglobal\n",
            "if\timport\tin\tis\tlambda\tnonlocal\tnot\tor\tpass\n",
            "raise\treturn\ttry\twhile\twith\tyield\t☞ Total 33 items\n"
          ],
          "name": "stdout"
        }
      ]
    },
    {
      "cell_type": "markdown",
      "metadata": {
        "id": "GU9fEF81CPWv"
      },
      "source": [
        "append( ), clear( ), remove( ) method가 있는 collection이 mutables인 듯...\n",
        "\n",
        "|구분1   |구분2          |자료형    |컬렉션<Br>(컨테이너)|이질/등질|가변/불변|예시|\n",
        "|:-------|:--------------|:---------|:---------:|:---:|:---:|:----------|\n",
        "|숫자형  |               |bool      | Χ | Χ |불변|    |\n",
        "|        |               |int       | Χ | Χ |불변|    |\n",
        "|        |               |float     | Χ | Χ |불변|    |\n",
        "|        |               |complex   | Χ | Χ |불변|    |\n",
        "|시퀀스형|문자형-텍스트  |str       | ○ |등질|불변|'1행', \"1행\", '''복수 행''', \"\"\"복수 행\"\"\"    |\n",
        "|        |문자형-바이너리|bytes     | ○ |등질|불변|    |\n",
        "|        |문자형-바이너리|bytearray | ○ |등질|***가변***|    |\n",
        "|시퀀스형|               |range     | ○ |등질|불변|range(start,stop,step) `#` start $\\le$ value $\\lt$ stop|\n",
        "|        |               |tuple ( , ) | ○ |***이질***|불변|    |\n",
        "|        |               |list  [ ] | ○ |***이질***|***가변***|    |\n",
        "|매핑형  |               |dict {key:value}| ○ |***이질***|***가변***|    |\n",
        "|집합형  |               |set   { } | ○ |***이질***|***가변***|    |\n",
        "|        |               |frozenset | ○ |***이질***|불변|    |"
      ]
    },
    {
      "cell_type": "markdown",
      "metadata": {
        "id": "Q0aA6pF9PHEb"
      },
      "source": [
        "▣ Python control structures  \n",
        "\n",
        "|if - else|for|while|[try](https://dojang.io/mod/page/view.php?id=2398)|\n",
        "|:----|:----|:----|:----|\n",
        "|**if** condition:<Br>&nbsp; &nbsp; expression<Br>**elif** condition:<Br>&nbsp; &nbsp; expression<Br>**else**:<Br>&nbsp; &nbsp; expression<Br><Br>|**for** item **in** *collection*:<Br>&nbsp; &nbsp; expression<Br>**else:** `#` 항상 실행<Br>&nbsp; &nbsp; expression<Br><Br><Br><Br>|**while** condition:<Br>&nbsp; &nbsp; expression<Br>**else:** `#` 항상 실행<Br>&nbsp; &nbsp; expression<Br><Br><Br><Br>|**try:**<Br>&nbsp; &nbsp; expression<Br>**except:** `#` 예외 有, 이름 특정 가능<Br>&nbsp; &nbsp; expression<Br>**else:** `#` 예외 無<Br>&nbsp; &nbsp; expression<Br>**finally:** `#` 항상 실행<Br>&nbsp; &nbsp; expression|"
      ]
    },
    {
      "cell_type": "markdown",
      "metadata": {
        "id": "IYF3iwGOcgLe"
      },
      "source": [
        "## numpy"
      ]
    },
    {
      "cell_type": "markdown",
      "metadata": {
        "id": "VhRunf73cik_"
      },
      "source": [
        "## scipy"
      ]
    },
    {
      "cell_type": "markdown",
      "metadata": {
        "id": "TeTQKQ-8oRIt"
      },
      "source": [
        "## sympy"
      ]
    },
    {
      "cell_type": "markdown",
      "metadata": {
        "id": "ROGQigzQckEM"
      },
      "source": [
        "## pandas"
      ]
    },
    {
      "cell_type": "markdown",
      "metadata": {
        "id": "HotSl1cooMzf"
      },
      "source": [
        "## pycaret"
      ]
    },
    {
      "cell_type": "markdown",
      "metadata": {
        "id": "Wq3QD4PNcllP"
      },
      "source": [
        "## scikit-learn"
      ]
    },
    {
      "cell_type": "markdown",
      "metadata": {
        "id": "8r2RoeHEm6dw"
      },
      "source": [
        "![https://scikit-learn.org/stable/tutorial/machine_learning_map/index.html](https://scikit-learn.org/stable/_static/ml_map.png)"
      ]
    },
    {
      "cell_type": "code",
      "metadata": {
        "id": "xQgnFwZQMn58",
        "colab": {
          "base_uri": "https://localhost:8080/",
          "height": 34
        },
        "outputId": "6dcf47e2-d960-4436-a1a7-0e79ff7a7813"
      },
      "source": [
        "print(ChooseRightSklearnEstimator(...)) # https://scikit-learn.org/stable/tutorial/machine_learning_map/index.html"
      ],
      "execution_count": null,
      "outputs": [
        {
          "output_type": "stream",
          "text": [
            "('url for choosing the right estimator', 'https://scikit-learn.org/stable/tutorial/machine_learning_map/index.html')\n"
          ],
          "name": "stdout"
        }
      ]
    },
    {
      "cell_type": "code",
      "metadata": {
        "id": "CHatPR7em37e",
        "colab": {
          "base_uri": "https://localhost:8080/",
          "height": 52
        },
        "outputId": "902f7635-6c29-4aec-a354-e030f65acbf7"
      },
      "source": [
        "print(ChooseRightSklearnEstimator(1000, 'C', True)[1])"
      ],
      "execution_count": null,
      "outputs": [
        {
          "output_type": "stream",
          "text": [
            "Linear SVC\t☞ 잘 안되면,\t(Text면) NaiveBayes,\n",
            "\t\t\t\t(아니면) KNeighborsClassifier ☞ 잘 안되면, SVC 또는 EnsembleClassifiers\n"
          ],
          "name": "stdout"
        }
      ]
    },
    {
      "cell_type": "markdown",
      "metadata": {
        "id": "B9eV9BKHcno3"
      },
      "source": [
        "## keras"
      ]
    },
    {
      "cell_type": "markdown",
      "metadata": {
        "id": "HpQq8cy7coaO"
      },
      "source": [
        "## tensorflow"
      ]
    },
    {
      "cell_type": "markdown",
      "metadata": {
        "id": "ocr-lS0ZOdgr"
      },
      "source": [
        "# R"
      ]
    },
    {
      "cell_type": "code",
      "metadata": {
        "id": "0XNAQiiYoh27"
      },
      "source": [
        "# ① 최초 Session : %load_ext rpy2.ipython ; ② Session 재시작 : %reload_ext rpy2.ipython\n",
        "%load_ext rpy2.ipython"
      ],
      "execution_count": null,
      "outputs": []
    },
    {
      "cell_type": "code",
      "metadata": {
        "id": "ihiX0ErbcnPN"
      },
      "source": [
        "# OS Command 사용 사례: https://stat.ethz.ch/R-manual/R-devel/library/base/html/system.html\n",
        "# %R system(\"git clone 'https://github.com/youngwoos/Doit_R.git'\", intern = TRUE)"
      ],
      "execution_count": null,
      "outputs": []
    },
    {
      "cell_type": "code",
      "metadata": {
        "colab": {
          "base_uri": "https://localhost:8080/"
        },
        "id": "Dz2Ispk5dyGA",
        "outputId": "e043f29d-5884-456b-e717-437572a9e38e"
      },
      "source": [
        "%R pkg <- c('data.table'); pkg[(pkg %in% installed.packages()[, \"Package\"])]"
      ],
      "execution_count": 4,
      "outputs": [
        {
          "output_type": "execute_result",
          "data": {
            "text/plain": [
              "array([], dtype=float64)"
            ]
          },
          "metadata": {
            "tags": []
          },
          "execution_count": 4
        }
      ]
    },
    {
      "cell_type": "code",
      "metadata": {
        "id": "xKcGLWg5eH1J"
      },
      "source": [
        "%R install.packages('data.table')"
      ],
      "execution_count": null,
      "outputs": []
    },
    {
      "cell_type": "code",
      "metadata": {
        "colab": {
          "base_uri": "https://localhost:8080/"
        },
        "id": "q5oNs-yCSUVk",
        "outputId": "8ed515bc-4562-4fbe-f834-9f09540ccad7"
      },
      "source": [
        "%R pkg <- c('data.table'); pkg[(pkg %in% installed.packages()[, \"Package\"])]"
      ],
      "execution_count": 6,
      "outputs": [
        {
          "output_type": "execute_result",
          "data": {
            "text/plain": [
              "array(['data.table'], dtype='<U10')"
            ]
          },
          "metadata": {
            "tags": []
          },
          "execution_count": 6
        }
      ]
    },
    {
      "cell_type": "code",
      "metadata": {
        "id": "8_1PkeZgeyC_",
        "colab": {
          "base_uri": "https://localhost:8080/"
        },
        "outputId": "116b233f-2911-441b-f3eb-931d5516c887"
      },
      "source": [
        "%R require('data.table')"
      ],
      "execution_count": 7,
      "outputs": [
        {
          "output_type": "stream",
          "text": [
            "R[write to console]: Loading required package: data.table\n",
            "\n"
          ],
          "name": "stderr"
        },
        {
          "output_type": "execute_result",
          "data": {
            "text/plain": [
              "array([1], dtype=int32)"
            ]
          },
          "metadata": {
            "tags": []
          },
          "execution_count": 7
        }
      ]
    },
    {
      "cell_type": "code",
      "metadata": {
        "id": "fbtF4GjQadic"
      },
      "source": [
        "%%R\n",
        "ReqPkgs <- function(pkgs, require.flag=FALSE){  # http://randpython.blogspot.com/2018/01/r.html\n",
        "  new.pkgs <- pkgs[!(pkgs %in% installed.packages()[, \"Package\"])]\n",
        "  if (length(new.pkgs))  # 참고, 기설치 확인 : pkgs[(pkgs %in% installed.packages()[, \"Package\"])]\n",
        "    install.packages(new.pkgs, dependencies = TRUE)\n",
        "  if (require.flag)\n",
        "    sapply(pkgs, require, character.only = TRUE)\n",
        "}"
      ],
      "execution_count": 8,
      "outputs": []
    },
    {
      "cell_type": "markdown",
      "metadata": {
        "id": "8bRfxzEnamr9"
      },
      "source": [
        "```R\n",
        "pkgs <- c(\"a_package\",\"b_package\",\"c_package\")  # 설치하고 불러 올 패키지 정의\n",
        "ReqPkgs(pkgs)                                   # 설치 및 불러오기 실행\n",
        "```"
      ]
    },
    {
      "cell_type": "code",
      "metadata": {
        "id": "FDWrVPnraeT4"
      },
      "source": [
        "# https://stackoverflow.com/questions/20596786/rstudio-is-it-possible-to-run-a-code-in-the-background\n",
        "# %R ReqPkgs(c('tidymodels', 'caret','tesseract'))  # jmv : 장시간 제외. DescTools: 윈도우용인듯. ∴ 코랩에서 처리 제외"
      ],
      "execution_count": null,
      "outputs": []
    },
    {
      "cell_type": "code",
      "metadata": {
        "id": "QxlDfCgVfOSV",
        "colab": {
          "base_uri": "https://localhost:8080/"
        },
        "outputId": "39a8090d-1d3a-4d8d-c1be-b137eb0efda8"
      },
      "source": [
        "%R require(tidyverse)"
      ],
      "execution_count": 9,
      "outputs": [
        {
          "output_type": "stream",
          "text": [
            "R[write to console]: Loading required package: tidyverse\n",
            "\n",
            "R[write to console]: ── Attaching packages ─────────────────────────────────────── tidyverse 1.3.0 ──\n",
            "\n",
            "R[write to console]: ✔ ggplot2 3.3.2     ✔ purrr   0.3.4\n",
            "✔ tibble  3.0.4     ✔ dplyr   1.0.2\n",
            "✔ tidyr   1.1.2     ✔ stringr 1.4.0\n",
            "✔ readr   1.4.0     ✔ forcats 0.5.0\n",
            "\n",
            "R[write to console]: ── Conflicts ────────────────────────────────────────── tidyverse_conflicts() ──\n",
            "✖ dplyr::between()   masks data.table::between()\n",
            "✖ dplyr::filter()    masks stats::filter()\n",
            "✖ dplyr::first()     masks data.table::first()\n",
            "✖ dplyr::lag()       masks stats::lag()\n",
            "✖ dplyr::last()      masks data.table::last()\n",
            "✖ purrr::transpose() masks data.table::transpose()\n",
            "\n"
          ],
          "name": "stderr"
        },
        {
          "output_type": "execute_result",
          "data": {
            "text/plain": [
              "array([1], dtype=int32)"
            ]
          },
          "metadata": {
            "tags": []
          },
          "execution_count": 9
        }
      ]
    },
    {
      "cell_type": "markdown",
      "metadata": {
        "id": "4zW2Dc8VXeJc"
      },
      "source": [
        "## Base R\n",
        "\n",
        "* https://rstudio.com/resources/cheatsheets/ ; https://ugoproto.github.io/ugo_r_doc/basics_cs/\n",
        "* https://rfriend.tistory.com/14"
      ]
    },
    {
      "cell_type": "markdown",
      "metadata": {
        "id": "JNaOtgLy_k69"
      },
      "source": [
        "![https://ugoproto.github.io/ugo_r_doc/basics_cs/](https://ugoproto.github.io/ugo_r_doc/img/base_r_cs/baseR-cheat-sheet-3a.png)"
      ]
    },
    {
      "cell_type": "markdown",
      "metadata": {
        "id": "vhesSoqV_-jz"
      },
      "source": [
        "![https://ugoproto.github.io/ugo_r_doc/basics_cs/](https://ugoproto.github.io/ugo_r_doc/img/base_r_cs/baseR-cheat-sheet-3b.png)"
      ]
    },
    {
      "cell_type": "markdown",
      "metadata": {
        "id": "FmtNctPeXtx5"
      },
      "source": [
        "**1. Getting Help**  \n",
        "**1.1 Accessing the help files** \n",
        "- ?mean # get help of a particular function 'mean'.\n",
        "- help.search('weighted mean') # Search the help files for a word or phrase.\n",
        "- help(package='dplyr') # Find help for a package.  \n",
        "\n",
        "**1.2 More about an object**  \n",
        "- str(iris) # Get a summary of an object’s structure.\n",
        "- class(iris) # Find the class an object belongs to."
      ]
    },
    {
      "cell_type": "markdown",
      "metadata": {
        "id": "JpsxkgjoYo8I"
      },
      "source": [
        "**2. Using Packages**  \n",
        "- install.packages('dplyr') # Download and install a package from CRAN.\n",
        "- library(dplyr) # Load the package into the session, making all its functions available to use.\n",
        "- require(dplyr) # library와 같은 효과. Return값으로 실행 결과 판단 가능.\n",
        "- dplyr::select # Use a particular function from a package.\n",
        "- data(iris) # Load a built-in dataset into the environment."
      ]
    },
    {
      "cell_type": "markdown",
      "metadata": {
        "id": "nQNdW_NeZGe0"
      },
      "source": [
        "**3. Working Directory**  \n",
        "- getwd() : Find the current working directory (where\n",
        "inputs are found and outputs are sent).\n",
        "- setwd('C://file/path') # Change the current working directory.\n",
        "\n",
        "&nbsp; &nbsp; &nbsp; Use projects in RStudio to set the working directory to the folder you are working in."
      ]
    },
    {
      "cell_type": "markdown",
      "metadata": {
        "id": "gyS8eoW3lEhd"
      },
      "source": [
        "**4. The Environment**  \n",
        "- ls( ) # List all variables in the environment.\n",
        "- rm(x) # Remove x from the environment.\n",
        "- rm(list = ls( )) # Remove all variables from the environment.\n",
        "\n",
        "&nbsp; &nbsp; &nbsp; You can use the environment panel in RStudio to browse variables in your environment."
      ]
    },
    {
      "cell_type": "markdown",
      "metadata": {
        "id": "OVFAZE93kl6f"
      },
      "source": [
        "**5. Variable Assignment** \n",
        "```R\n",
        "> a <- 'apple' # 문자열 'apple'을 변수 a에 할당. 『 a = 'apple' 』도 같은 표현임.\n",
        "> a\n",
        "  [1] 'apple'\n",
        "```"
      ]
    },
    {
      "cell_type": "markdown",
      "metadata": {
        "id": "5yauCAOpeoSM"
      },
      "source": [
        "**6. Data Types**  \n",
        "![https://rfriend.tistory.com/14](https://t1.daumcdn.net/cfile/tistory/230EBE375672CF0337)"
      ]
    },
    {
      "cell_type": "markdown",
      "metadata": {
        "id": "mky0a59qZW6a"
      },
      "source": [
        "**6.1 Vectors**  \n",
        "6.1.1 Creating Vectors  \n",
        "\n",
        "|R Script|Result|Explanation|\n",
        "|:---|:---|:---|\n",
        "|c(2, 4, 6)|2 4 6|Join elements into a vector|\n",
        "|2:6|2 3 4 5 6|An integer sequence|\n",
        "|seq(2, 3, by=0.5)|2.0 2.5 3.0|A complex sequence|\n",
        "|rep(1:2, times=3)|1 2 1 2 1 2|Repeat a vector   |\n",
        "|rep(1:2, each=3) |1 1 1 2 2 2|Repeat elements of a vector|\n",
        "\n",
        "6.1.2 Vector Functions  \n",
        "\n",
        "|sort(x)|rev(x)|table(x)|unique(x)|\n",
        "|:---|:---|:---|:---|\n",
        "|Return x sorted.|Return x reversed.|See counts of values.|See unique values.|\n",
        "\n",
        "6.1.3 Selecting Vector Elemnets  \n",
        "\n",
        "|By Position||By Value||Named Vectors||\n",
        "|:---|:---|:---|:---|:---|:---|\n",
        "|x[4]|The fourth element.|x[x == 10]|Elements which are equal to 10.|x['apple']|Element with name 'apple'.|\n",
        "|x[-4]|All but the fourth.|x[x < 0]|All elements less than zero.|||\n",
        "|x[2:4]|Elements two to four.|x[x %in% c(1, 2, 5)]|Elements in the set 1, 2, 5.|||\n",
        "|x[-(2:4)]|All elements except two to four.|||||\n",
        "|x[c(1, 5)]|Elements one and five.|||||"
      ]
    },
    {
      "cell_type": "markdown",
      "metadata": {
        "id": "PHcvZ0h3dMPP"
      },
      "source": [
        "**6.2 Matrices**\n",
        "\n",
        "|Matrices Handling|Explanation|Matrices Handling|Explanation|\n",
        "|:---|:---|:---|:---|\n",
        "|m <- matrix(x, nrow = 3, ncol = 3)|Create a matrix from x.|||\n",
        "|m[2, ]|Select a row     |t(m)      |Transpose            |\n",
        "|m[ ,1]|Select a column  |m %*% n   |Matrix Multiplication|\n",
        "|m[2,3]|Select an element|solve(m,n)|Find x in: m * x = n |"
      ]
    },
    {
      "cell_type": "markdown",
      "metadata": {
        "id": "m15Ca_tRdNyH"
      },
      "source": [
        "**6.3 Lists**"
      ]
    },
    {
      "cell_type": "code",
      "metadata": {
        "colab": {
          "base_uri": "https://localhost:8080/",
          "height": 181
        },
        "id": "cI_IEag6BxUF",
        "outputId": "eda9f2e2-d4fc-4fa9-e103-2577a9b99ed4"
      },
      "source": [
        "%R l <- list(x = 1:5, y = c('a', 'b')); print(l) # A list is a collection of elements which can be of different types."
      ],
      "execution_count": null,
      "outputs": [
        {
          "output_type": "stream",
          "text": [
            "$x\n",
            "[1] 1 2 3 4 5\n",
            "\n",
            "$y\n",
            "[1] \"a\" \"b\"\n",
            "\n"
          ],
          "name": "stdout"
        },
        {
          "output_type": "execute_result",
          "data": {
            "text/html": [
              "\n",
              "        <span>ListVector with 2 elements.</span>\n",
              "        <table>\n",
              "        <tbody>\n",
              "        \n",
              "          <tr>\n",
              "            <th>\n",
              "            x\n",
              "            </th>\n",
              "            <td>\n",
              "            <rpy2.rinterface.IntSexpVector object at 0x7fd8a02d8488> [RTYPES.INTSXP]\n",
              "            </td>\n",
              "          </tr>\n",
              "        \n",
              "          <tr>\n",
              "            <th>\n",
              "            y\n",
              "            </th>\n",
              "            <td>\n",
              "            <rpy2.rinterface_lib.sexp.StrSexpVector object at 0x7fd8a02ea908> [RTYPES.STRSXP]\n",
              "            </td>\n",
              "          </tr>\n",
              "        \n",
              "        </tbody>\n",
              "        </table>\n",
              "        "
            ],
            "text/plain": [
              "R object with classes: ('list',) mapped to:\n",
              "[IntSexpVector, StrSexpVector]\n",
              "  x: <class 'rpy2.rinterface.IntSexpVector'>\n",
              "  <rpy2.rinterface.IntSexpVector object at 0x7fd8a02d8488> [RTYPES.INTSXP]\n",
              "  y: <class 'rpy2.rinterface_lib.sexp.StrSexpVector'>\n",
              "  <rpy2.rinterface_lib.sexp.StrSexpVector object at 0x7fd8a4dbee88> [RTYPES.STRSXP]"
            ]
          },
          "metadata": {
            "tags": []
          },
          "execution_count": 15
        }
      ]
    },
    {
      "cell_type": "code",
      "metadata": {
        "colab": {
          "base_uri": "https://localhost:8080/"
        },
        "id": "AeuAHMcgByGH",
        "outputId": "1666decf-00e4-4f97-c232-1ab3b1b14472"
      },
      "source": [
        "%R l[[2]] # Second element of l."
      ],
      "execution_count": null,
      "outputs": [
        {
          "output_type": "execute_result",
          "data": {
            "text/plain": [
              "array(['a', 'b'], dtype='<U1')"
            ]
          },
          "metadata": {
            "tags": []
          },
          "execution_count": 9
        }
      ]
    },
    {
      "cell_type": "code",
      "metadata": {
        "colab": {
          "base_uri": "https://localhost:8080/"
        },
        "id": "1wWf8KCQC263",
        "outputId": "3d9cb7e2-9240-44bd-94d4-a4deaa548d5f"
      },
      "source": [
        "%R l$x # Element named x."
      ],
      "execution_count": null,
      "outputs": [
        {
          "output_type": "execute_result",
          "data": {
            "text/plain": [
              "array([1, 2, 3, 4, 5], dtype=int32)"
            ]
          },
          "metadata": {
            "tags": []
          },
          "execution_count": 10
        }
      ]
    },
    {
      "cell_type": "code",
      "metadata": {
        "colab": {
          "base_uri": "https://localhost:8080/",
          "height": 55
        },
        "id": "9JVQXQodC4Bq",
        "outputId": "ca010129-d4d3-4b23-b3fe-81de5ffeca86"
      },
      "source": [
        "%R l['y'] # New list with only element named y."
      ],
      "execution_count": null,
      "outputs": [
        {
          "output_type": "execute_result",
          "data": {
            "text/html": [
              "\n",
              "        <span>ListVector with 1 elements.</span>\n",
              "        <table>\n",
              "        <tbody>\n",
              "        \n",
              "          <tr>\n",
              "            <th>\n",
              "            y\n",
              "            </th>\n",
              "            <td>\n",
              "            <rpy2.rinterface_lib.sexp.StrSexpVector object at 0x7fd8a4dfb548> [RTYPES.STRSXP]\n",
              "            </td>\n",
              "          </tr>\n",
              "        \n",
              "        </tbody>\n",
              "        </table>\n",
              "        "
            ],
            "text/plain": [
              "R object with classes: ('list',) mapped to:\n",
              "[StrSexpVector]\n",
              "  y: <class 'rpy2.rinterface_lib.sexp.StrSexpVector'>\n",
              "  <rpy2.rinterface_lib.sexp.StrSexpVector object at 0x7fd8a4dfbf08> [RTYPES.STRSXP]"
            ]
          },
          "metadata": {
            "tags": []
          },
          "execution_count": 11
        }
      ]
    },
    {
      "cell_type": "markdown",
      "metadata": {
        "id": "g2H1IJw-dPXo"
      },
      "source": [
        "**6.4 Data Frames**"
      ]
    },
    {
      "cell_type": "code",
      "metadata": {
        "id": "ZGI4MIIDEkRI"
      },
      "source": [
        "# Data frame is a special case of a list where all elements are the same length.\n",
        "%R df <- data.frame(x = 1:3, y = c('a', 'b', 'c')); df"
      ],
      "execution_count": null,
      "outputs": []
    },
    {
      "cell_type": "markdown",
      "metadata": {
        "id": "vLi2anSvGBKM"
      },
      "source": [
        "|data.frame|df|Subsetting||Functions||\n",
        "|:--:|:--:|:---|:---|:---|:---|\n",
        "|x열|y열|&nbsp; List `~`||View(df)|See the full data frame.|\n",
        "|1|a|&nbsp; &nbsp; &nbsp; df$x|x열 반환|head(df)|See the first 6 rows.|\n",
        "|2|b|&nbsp; &nbsp; &nbsp; df[[2]]|y열 반환|nrow(df)|Number of rows|\n",
        "|3|c|&nbsp; Matrix `~`||ncol(df)|Number of columns.|\n",
        "|||&nbsp; &nbsp; &nbsp; df[2, ]|2번째 행(2, b) 반환|dim(df)|Number of columns and rows.|\n",
        "|||&nbsp; &nbsp; &nbsp; df[ ,2]|y열 반환|cbind(df1, df2)|Bind columns. (행 수가 같아야 함 ?)|\n",
        "|||&nbsp; &nbsp; &nbsp; df[2,2]|원소 b 반환|rbind(df3, df4)|Bind rows. (열 수가 같아야 함 ?)|"
      ]
    },
    {
      "cell_type": "markdown",
      "metadata": {
        "id": "OteUYwpmdSLB"
      },
      "source": [
        "**6.5 Strings**"
      ]
    },
    {
      "cell_type": "code",
      "metadata": {
        "colab": {
          "base_uri": "https://localhost:8080/"
        },
        "id": "XcMs4lVTK3vP",
        "outputId": "70abdcc5-4708-452d-82c2-f1cdfed22d43"
      },
      "source": [
        "%R x <- 'Strings related examples'; y <- 'in base R cheatsheet!'\n",
        "%R paste(x, y, sep = ' ') # Join multiple vectors together."
      ],
      "execution_count": null,
      "outputs": [
        {
          "output_type": "execute_result",
          "data": {
            "text/plain": [
              "array(['Strings related examples in base R cheatsheet!'], dtype='<U46')"
            ]
          },
          "metadata": {
            "tags": []
          },
          "execution_count": 20
        }
      ]
    },
    {
      "cell_type": "code",
      "metadata": {
        "colab": {
          "base_uri": "https://localhost:8080/"
        },
        "id": "Qj373Si_LP-V",
        "outputId": "37141d8a-b474-44dd-89a9-be80689ed027"
      },
      "source": [
        "%R paste(x, collapse = ' ') # Join elements of a vector together."
      ],
      "execution_count": null,
      "outputs": [
        {
          "output_type": "execute_result",
          "data": {
            "text/plain": [
              "array(['Strings related examples'], dtype='<U24')"
            ]
          },
          "metadata": {
            "tags": []
          },
          "execution_count": 21
        }
      ]
    },
    {
      "cell_type": "code",
      "metadata": {
        "colab": {
          "base_uri": "https://localhost:8080/"
        },
        "id": "DEmBHFTGLeNV",
        "outputId": "be1bf0a7-4b79-4831-9edd-a963ceb48390"
      },
      "source": [
        "%R pattern <- '^[a-zA-Z]'; grep(pattern, x) # Find regular expression matches in x."
      ],
      "execution_count": null,
      "outputs": [
        {
          "output_type": "execute_result",
          "data": {
            "text/plain": [
              "array([1], dtype=int32)"
            ]
          },
          "metadata": {
            "tags": []
          },
          "execution_count": 30
        }
      ]
    },
    {
      "cell_type": "code",
      "metadata": {
        "colab": {
          "base_uri": "https://localhost:8080/"
        },
        "id": "J6HW4-w_LjHa",
        "outputId": "fe3b4313-a5f4-47bb-a416-0b2596fa5ac5"
      },
      "source": [
        "%R pattern <- 'a'; replace <- 'A'; gsub(pattern, replace, x) # Replace matches in x with a string."
      ],
      "execution_count": null,
      "outputs": [
        {
          "output_type": "execute_result",
          "data": {
            "text/plain": [
              "array(['Strings relAted exAmples'], dtype='<U24')"
            ]
          },
          "metadata": {
            "tags": []
          },
          "execution_count": 31
        }
      ]
    },
    {
      "cell_type": "code",
      "metadata": {
        "colab": {
          "base_uri": "https://localhost:8080/"
        },
        "id": "J9ntFZkAMMR6",
        "outputId": "f3d0204a-2521-464e-d092-602451628ad2"
      },
      "source": [
        "%R toupper(x) # Convert to uppercase."
      ],
      "execution_count": null,
      "outputs": [
        {
          "output_type": "execute_result",
          "data": {
            "text/plain": [
              "array(['STRINGS RELATED EXAMPLES'], dtype='<U24')"
            ]
          },
          "metadata": {
            "tags": []
          },
          "execution_count": 32
        }
      ]
    },
    {
      "cell_type": "code",
      "metadata": {
        "colab": {
          "base_uri": "https://localhost:8080/"
        },
        "id": "piQtcvZGMNSG",
        "outputId": "cebb6539-0a60-4a0b-d7e1-041037ed6633"
      },
      "source": [
        "%R tolower(x) # Convert to lowercase."
      ],
      "execution_count": null,
      "outputs": [
        {
          "output_type": "execute_result",
          "data": {
            "text/plain": [
              "array(['strings related examples'], dtype='<U24')"
            ]
          },
          "metadata": {
            "tags": []
          },
          "execution_count": 33
        }
      ]
    },
    {
      "cell_type": "code",
      "metadata": {
        "colab": {
          "base_uri": "https://localhost:8080/"
        },
        "id": "FQQHrXYmMRUp",
        "outputId": "dd9ab8f1-38a6-4904-f9fa-bcd70ea53bd3"
      },
      "source": [
        "%R nchar(x) # Number of characters in a string."
      ],
      "execution_count": null,
      "outputs": [
        {
          "output_type": "execute_result",
          "data": {
            "text/plain": [
              "array([24], dtype=int32)"
            ]
          },
          "metadata": {
            "tags": []
          },
          "execution_count": 34
        }
      ]
    },
    {
      "cell_type": "code",
      "metadata": {
        "id": "FaeQKCerM936"
      },
      "source": [
        "%%R\n",
        "CapStr <- function(y) {  \n",
        "  c <- strsplit(y, \" \")[[1]]\n",
        "  paste(toupper(substring(c, 1,1)), substring(c, 2),\n",
        "      sep=\"\", collapse=\" \")\n",
        "} # https://rstudio-pubs-static.s3.amazonaws.com/408658_512da947714740b99253228f084a08a9.html\n",
        "\n",
        "x <- c(\"sepal length\", \"sepal width\",  \"petal length\", \"petal width\",  \"species\")"
      ],
      "execution_count": null,
      "outputs": []
    },
    {
      "cell_type": "code",
      "metadata": {
        "colab": {
          "base_uri": "https://localhost:8080/"
        },
        "id": "FKd-BapGNDC-",
        "outputId": "bbfa38e2-049c-4d7d-99d9-5974e08d608b"
      },
      "source": [
        "%R sapply(x, CapStr)"
      ],
      "execution_count": null,
      "outputs": [
        {
          "output_type": "execute_result",
          "data": {
            "text/plain": [
              "array(['Sepal Length', 'Sepal Width', 'Petal Length', 'Petal Width',\n",
              "       'Species'], dtype='<U12')"
            ]
          },
          "metadata": {
            "tags": []
          },
          "execution_count": 36
        }
      ]
    },
    {
      "cell_type": "markdown",
      "metadata": {
        "id": "ra_gooaedTkF"
      },
      "source": [
        "**6.6 Factors**  \n",
        "- factor(x) # Turn a vector into a factor. Can set the levels of the factor and the order.\n",
        "- cut(x, breaks = 4) # Turn a numeric vector into a factor by 'cutting' into sections."
      ]
    },
    {
      "cell_type": "markdown",
      "metadata": {
        "id": "9Uo21NW1c6aK"
      },
      "source": [
        "**6.7 Types**  \n",
        "Converting between common data types in R. Can always go\n",
        "from a higher value in the table to a lower value.\n",
        "\n",
        "|R Script         |Value            |Explanation|\n",
        "|:---|:---|:---|\n",
        "|as.logical       |TRUE, FALSE, TRUE|Boolean values (TRUE or FALSE).                   |\n",
        "|as.numeric       |1, 0, 1          |Integers or floating point numbers.               |\n",
        "|as.character     |'1', '0', '1'    |Character strings. Generally preferred to factors.|\n",
        "|as.factor<Br><Br>|'1', '0', '1',<Br>levels: '1', '0'|Character strings with preset levels. Needed for some statistical models.<Br><Br>|"
      ]
    },
    {
      "cell_type": "code",
      "metadata": {
        "colab": {
          "base_uri": "https://localhost:8080/"
        },
        "id": "lKhG7yWUHsGe",
        "outputId": "58cee541-7b7b-4405-f099-a92e3b115a67"
      },
      "source": [
        "%R is(df)  # is.logical, is.numeric, is.character, is.factor 사용 가능함"
      ],
      "execution_count": null,
      "outputs": [
        {
          "output_type": "execute_result",
          "data": {
            "text/plain": [
              "array(['data.frame', 'list', 'oldClass', 'vector'], dtype='<U10')"
            ]
          },
          "metadata": {
            "tags": []
          },
          "execution_count": 17
        }
      ]
    },
    {
      "cell_type": "markdown",
      "metadata": {
        "id": "HoJS7IxAczra"
      },
      "source": [
        "**7. Programming**  \n",
        "\n",
        "||for Loop|while Loop|if Statements|function|Conditions|\n",
        "|:---|:---|:---|:---|:---|:---|\n",
        "|Syntax<Br><Br><Br><Br><Br>|for (variable in sequence) {<Br>&nbsp; &nbsp; Do something<Br>}<Br><Br><Br>|while (condition){<Br>&nbsp; &nbsp; Do something<Br>}<Br><Br><Br>|if (condition) {<Br>&nbsp; &nbsp; Do something<Br>} else {<Br>&nbsp; &nbsp; Do something different<Br>}|function_name <- function(var {<Br>&nbsp; &nbsp; Do something<Br>&nbsp; &nbsp; return(new_variable)<Br>}<Br><Br>|a == b<Br>a > b<Br>a >= b<Br>is.na(a) # is 'a' missing?<Br><Br>|\n",
        "|Example<Br><Br><Br><Br><Br>|for (i in 1:4) {<Br>&nbsp; &nbsp; j <- i + 10<Br>&nbsp; &nbsp; print(j)<Br>}<Br><Br>|while (i < 5) {<Br>&nbsp; &nbsp; print(i)<Br>&nbsp; &nbsp; i <- i + 1<Br>}<Br><Br>|if (i > 3) {<Br>&nbsp; &nbsp; print(‘Yes’)<Br>} else {<Br>&nbsp; &nbsp; print(‘No’)<Br>}|square <- function(x) {<Br>&nbsp; &nbsp; squared <- x*x<Br>&nbsp; &nbsp; return(squared)<Br>}<Br><Br>|a != b<Br>a < b<Br>a <= b<Br>is.null(a) # is 'a' null?<Br><Br>|"
      ]
    },
    {
      "cell_type": "markdown",
      "metadata": {
        "id": "oHMttE2Pc1qB"
      },
      "source": [
        "**8. Reading & Writing Data**  \n",
        "- Also see the readr package.\n",
        "\n",
        "|Input|Output|Description|\n",
        "|:---|:---|:---|\n",
        "|df <- read.table(‘file.txt')|write.table(df, ‘file.txt')|Read and write a delimited text file.|\n",
        "|df <- read.csv(‘file.csv')|write.csv(df, ‘file.csv')|Read and write a comma separated value file. This is a special case of read.table/write.table.|\n",
        "|load(‘file.RData')|save(df, file = 'file.Rdata')|Read and write an R data file, a file type special for R.|"
      ]
    },
    {
      "cell_type": "markdown",
      "metadata": {
        "id": "l_Ot3TFtdFuy"
      },
      "source": [
        "**9. Math Functions**  \n",
        "\n",
        "|Function|Description|Function|Description|Function|Description|Function|Description|\n",
        "|:---|:---|:---|:---|:---|:---|:---|:---|\n",
        "|log(x)|Natural log.|sum(x)|Sum.|sd(x)|The standard deviation.|round(x, n)|Round to n decimal places.|\n",
        "|exp(x)|Exponential.|mean(x)|Mean.|var(x)|The variance.|signif(x, n)|Round to n significant figures.|\n",
        "|max(x)|Largest element.|median(x)|Median.|cor(x, y)|Correlation.|||\n",
        "|min(x)|Smallest element.|quantile(x)|Percentage quantiles.|rank(x)|Rank of elements.|||"
      ]
    },
    {
      "cell_type": "markdown",
      "metadata": {
        "id": "ErHZomT_dbd8"
      },
      "source": [
        "**10. Statistics**  \n",
        "- lm(y ~ x, data=df) # Linear model.\n",
        "- glm(y ~ x, data=df) # Generalised linear model.\n",
        "- summary(result) # Get more detailed information out a model.\n",
        "- t.test(x, y) # Perform a t-test for difference between means.\n",
        "- pairwise.t.test # Perform a t-test for paired data.\n",
        "- prop.test # Test for a difference between proportions.\n",
        "- aov # Analysis of variance."
      ]
    },
    {
      "cell_type": "markdown",
      "metadata": {
        "id": "xOdnGkg2dc9-"
      },
      "source": [
        "**11. Distributions**  \n",
        "\n",
        "||Random Variates|Density Function|Cumulative Distribution|Quantile|\n",
        "|:---:|:---:|:---:|:---:|:---:|\n",
        "|Normal|rnorm|dnorm|pnorm|qnorm|\n",
        "|Poisson|rpois|dpois|ppois|qpois|\n",
        "|Binomial|rbinom|dbinom|pbinom|qbinom|\n",
        "|Uniform|runif|dunif|punif|qunif|"
      ]
    },
    {
      "cell_type": "markdown",
      "metadata": {
        "id": "c3g9BR2jnl6x"
      },
      "source": [
        "## Syntax Comparison\n",
        "\n",
        "* https://rstudio.com/resources/cheatsheets/ ; https://ugoproto.github.io/ugo_r_doc/specializations_cs/"
      ]
    },
    {
      "cell_type": "markdown",
      "metadata": {
        "id": "Xcc2oUsoS_LY"
      },
      "source": [
        "![](https://ugoproto.github.io/ugo_r_doc/img/specialization_cs/syntaxa.png)"
      ]
    },
    {
      "cell_type": "markdown",
      "metadata": {
        "id": "7k6DJxE_S4NK"
      },
      "source": [
        "![](https://ugoproto.github.io/ugo_r_doc/img/specialization_cs/syntaxb.png)"
      ]
    },
    {
      "cell_type": "markdown",
      "metadata": {
        "id": "2-4XiigPnVRd"
      },
      "source": [
        "## data.table\n",
        "* https://cran.r-project.org/web/packages/data.table/ → [Intro. to data.table](https://cran.r-project.org/web/packages/data.table/vignettes/datatable-intro.html)\n",
        "* https://rstudio.com/resources/cheatsheets/ ; https://ugoproto.github.io/ugo_r_doc/specializations_cs/\n",
        "* pandas vs. data.table – A study of data-frames\n",
        "  + 참고 : https://www.r-bloggers.com/2016/12/comparing-a-mysql-query-with-a-data-table-in-r/\n",
        "  + https://www.r-bloggers.com/2018/02/pandas-vs-data-table-a-study-of-data-frames/\n",
        "  + https://www.r-bloggers.com/2018/03/pandas-vs-data-table-a-study-of-data-frames-part-2/"
      ]
    },
    {
      "cell_type": "markdown",
      "metadata": {
        "id": "7WAgVixuf-ES"
      },
      "source": [
        "### Cheatsheet"
      ]
    },
    {
      "cell_type": "markdown",
      "metadata": {
        "id": "YDwE2ZFwT8cn"
      },
      "source": [
        "![https://ugoproto.github.io/ugo_r_doc/specializations_cs/](https://ugoproto.github.io/ugo_r_doc/img/specialization_cs/datatablea.png)"
      ]
    },
    {
      "cell_type": "markdown",
      "metadata": {
        "id": "a7gUnRJuUC3J"
      },
      "source": [
        "![https://ugoproto.github.io/ugo_r_doc/specializations_cs/](https://ugoproto.github.io/ugo_r_doc/img/specialization_cs/datatableb.png)"
      ]
    },
    {
      "cell_type": "markdown",
      "metadata": {
        "id": "XIDh3ciUftYS"
      },
      "source": [
        "### vignettes : [Introduction](https://cran.r-project.org/web/packages/data.table/vignettes/datatable-intro.html)"
      ]
    },
    {
      "cell_type": "markdown",
      "metadata": {
        "id": "Qtkzew_nSzy-"
      },
      "source": [
        "**Data**"
      ]
    },
    {
      "cell_type": "code",
      "metadata": {
        "id": "cQfb04DMfrcK"
      },
      "source": [
        "%%R\n",
        "input <- if (file.exists(\"flights14.csv\")) {\n",
        "   \"flights14.csv\"\n",
        "} else {\n",
        "  \"https://raw.githubusercontent.com/Rdatatable/data.table/master/vignettes/flights14.csv\"\n",
        "}\n",
        "flights <- fread(input)"
      ],
      "execution_count": 10,
      "outputs": []
    },
    {
      "cell_type": "code",
      "metadata": {
        "colab": {
          "base_uri": "https://localhost:8080/"
        },
        "id": "Y7E6jq5ZWTRu",
        "outputId": "5a863bc7-c5e8-4459-9124-414e2b4b3adc"
      },
      "source": [
        "%R str(flights)"
      ],
      "execution_count": 13,
      "outputs": [
        {
          "output_type": "stream",
          "text": [
            "Classes ‘data.table’ and 'data.frame':\t253316 obs. of  11 variables:\n",
            " $ year     : int  2014 2014 2014 2014 2014 2014 2014 2014 2014 2014 ...\n",
            " $ month    : int  1 1 1 1 1 1 1 1 1 1 ...\n",
            " $ day      : int  1 1 1 1 1 1 1 1 1 1 ...\n",
            " $ dep_delay: int  14 -3 2 -8 2 4 -2 -3 -1 -2 ...\n",
            " $ arr_delay: int  13 13 9 -26 1 0 -18 -14 -17 -14 ...\n",
            " $ carrier  : chr  \"AA\" \"AA\" \"AA\" \"AA\" ...\n",
            " $ origin   : chr  \"JFK\" \"JFK\" \"JFK\" \"LGA\" ...\n",
            " $ dest     : chr  \"LAX\" \"LAX\" \"LAX\" \"PBI\" ...\n",
            " $ air_time : int  359 363 351 157 350 339 338 356 161 349 ...\n",
            " $ distance : int  2475 2475 2475 1035 2475 2454 2475 2475 1089 2422 ...\n",
            " $ hour     : int  9 11 19 7 13 18 21 15 15 18 ...\n",
            " - attr(*, \".internal.selfref\")=<externalptr> \n"
          ],
          "name": "stdout"
        }
      ]
    },
    {
      "cell_type": "code",
      "metadata": {
        "id": "6kj-t2ChgPB8",
        "colab": {
          "base_uri": "https://localhost:8080/",
          "height": 138
        },
        "outputId": "c5ff50f0-b87a-448e-9f6e-2ed1ed366489"
      },
      "source": [
        "%R flights %>% head(3)"
      ],
      "execution_count": 14,
      "outputs": [
        {
          "output_type": "execute_result",
          "data": {
            "text/html": [
              "<div>\n",
              "<style scoped>\n",
              "    .dataframe tbody tr th:only-of-type {\n",
              "        vertical-align: middle;\n",
              "    }\n",
              "\n",
              "    .dataframe tbody tr th {\n",
              "        vertical-align: top;\n",
              "    }\n",
              "\n",
              "    .dataframe thead th {\n",
              "        text-align: right;\n",
              "    }\n",
              "</style>\n",
              "<table border=\"1\" class=\"dataframe\">\n",
              "  <thead>\n",
              "    <tr style=\"text-align: right;\">\n",
              "      <th></th>\n",
              "      <th>year</th>\n",
              "      <th>month</th>\n",
              "      <th>day</th>\n",
              "      <th>dep_delay</th>\n",
              "      <th>arr_delay</th>\n",
              "      <th>carrier</th>\n",
              "      <th>origin</th>\n",
              "      <th>dest</th>\n",
              "      <th>air_time</th>\n",
              "      <th>distance</th>\n",
              "      <th>hour</th>\n",
              "    </tr>\n",
              "  </thead>\n",
              "  <tbody>\n",
              "    <tr>\n",
              "      <th>1</th>\n",
              "      <td>2014</td>\n",
              "      <td>1</td>\n",
              "      <td>1</td>\n",
              "      <td>14</td>\n",
              "      <td>13</td>\n",
              "      <td>AA</td>\n",
              "      <td>JFK</td>\n",
              "      <td>LAX</td>\n",
              "      <td>359</td>\n",
              "      <td>2475</td>\n",
              "      <td>9</td>\n",
              "    </tr>\n",
              "    <tr>\n",
              "      <th>2</th>\n",
              "      <td>2014</td>\n",
              "      <td>1</td>\n",
              "      <td>1</td>\n",
              "      <td>-3</td>\n",
              "      <td>13</td>\n",
              "      <td>AA</td>\n",
              "      <td>JFK</td>\n",
              "      <td>LAX</td>\n",
              "      <td>363</td>\n",
              "      <td>2475</td>\n",
              "      <td>11</td>\n",
              "    </tr>\n",
              "    <tr>\n",
              "      <th>3</th>\n",
              "      <td>2014</td>\n",
              "      <td>1</td>\n",
              "      <td>1</td>\n",
              "      <td>2</td>\n",
              "      <td>9</td>\n",
              "      <td>AA</td>\n",
              "      <td>JFK</td>\n",
              "      <td>LAX</td>\n",
              "      <td>351</td>\n",
              "      <td>2475</td>\n",
              "      <td>19</td>\n",
              "    </tr>\n",
              "  </tbody>\n",
              "</table>\n",
              "</div>"
            ],
            "text/plain": [
              "   year  month  day  dep_delay  arr_delay  ... origin dest air_time  distance  hour\n",
              "1  2014      1    1         14         13  ...    JFK  LAX      359      2475     9\n",
              "2  2014      1    1         -3         13  ...    JFK  LAX      363      2475    11\n",
              "3  2014      1    1          2          9  ...    JFK  LAX      351      2475    19\n",
              "\n",
              "[3 rows x 11 columns]"
            ]
          },
          "metadata": {
            "tags": []
          },
          "execution_count": 14
        }
      ]
    },
    {
      "cell_type": "markdown",
      "metadata": {
        "id": "tpok2dUBTB61"
      },
      "source": [
        "**Introduction**  \n",
        "**1. Basics**  \n",
        "**1-a) What is data.table?**"
      ]
    },
    {
      "cell_type": "markdown",
      "metadata": {
        "id": "OshXQEVIg6Wb"
      },
      "source": [
        "data.table is an R package that provides an enhanced version of **data.frame**s, which are the standard data structure for storing data in base R. In the [Data section](https://cran.r-project.org/web/packages/data.table/vignettes/datatable-intro.html#data) above, we already created a data.table using fread( ). We can also create one using the data.table( ) function. Here is an example:"
      ]
    },
    {
      "cell_type": "code",
      "metadata": {
        "id": "ZU7pbMpVhJkT"
      },
      "source": [
        "%%R\n",
        "DT = data.table(\n",
        "  ID = c(\"b\",\"b\",\"b\",\"a\",\"a\",\"c\"),\n",
        "  a = 1:6,\n",
        "  b = 7:12,\n",
        "  c = 13:18\n",
        ")"
      ],
      "execution_count": 17,
      "outputs": []
    },
    {
      "cell_type": "code",
      "metadata": {
        "id": "WXesHJWBhLAd",
        "colab": {
          "base_uri": "https://localhost:8080/",
          "height": 228
        },
        "outputId": "0ce1dc45-565c-49d6-933a-25377107750a"
      },
      "source": [
        "%R DT"
      ],
      "execution_count": 18,
      "outputs": [
        {
          "output_type": "execute_result",
          "data": {
            "text/html": [
              "<div>\n",
              "<style scoped>\n",
              "    .dataframe tbody tr th:only-of-type {\n",
              "        vertical-align: middle;\n",
              "    }\n",
              "\n",
              "    .dataframe tbody tr th {\n",
              "        vertical-align: top;\n",
              "    }\n",
              "\n",
              "    .dataframe thead th {\n",
              "        text-align: right;\n",
              "    }\n",
              "</style>\n",
              "<table border=\"1\" class=\"dataframe\">\n",
              "  <thead>\n",
              "    <tr style=\"text-align: right;\">\n",
              "      <th></th>\n",
              "      <th>ID</th>\n",
              "      <th>a</th>\n",
              "      <th>b</th>\n",
              "      <th>c</th>\n",
              "    </tr>\n",
              "  </thead>\n",
              "  <tbody>\n",
              "    <tr>\n",
              "      <th>1</th>\n",
              "      <td>b</td>\n",
              "      <td>1</td>\n",
              "      <td>7</td>\n",
              "      <td>13</td>\n",
              "    </tr>\n",
              "    <tr>\n",
              "      <th>2</th>\n",
              "      <td>b</td>\n",
              "      <td>2</td>\n",
              "      <td>8</td>\n",
              "      <td>14</td>\n",
              "    </tr>\n",
              "    <tr>\n",
              "      <th>3</th>\n",
              "      <td>b</td>\n",
              "      <td>3</td>\n",
              "      <td>9</td>\n",
              "      <td>15</td>\n",
              "    </tr>\n",
              "    <tr>\n",
              "      <th>4</th>\n",
              "      <td>a</td>\n",
              "      <td>4</td>\n",
              "      <td>10</td>\n",
              "      <td>16</td>\n",
              "    </tr>\n",
              "    <tr>\n",
              "      <th>5</th>\n",
              "      <td>a</td>\n",
              "      <td>5</td>\n",
              "      <td>11</td>\n",
              "      <td>17</td>\n",
              "    </tr>\n",
              "    <tr>\n",
              "      <th>6</th>\n",
              "      <td>c</td>\n",
              "      <td>6</td>\n",
              "      <td>12</td>\n",
              "      <td>18</td>\n",
              "    </tr>\n",
              "  </tbody>\n",
              "</table>\n",
              "</div>"
            ],
            "text/plain": [
              "  ID  a   b   c\n",
              "1  b  1   7  13\n",
              "2  b  2   8  14\n",
              "3  b  3   9  15\n",
              "4  a  4  10  16\n",
              "5  a  5  11  17\n",
              "6  c  6  12  18"
            ]
          },
          "metadata": {
            "tags": []
          },
          "execution_count": 18
        }
      ]
    },
    {
      "cell_type": "code",
      "metadata": {
        "id": "UD3x0CN1hPNy",
        "colab": {
          "base_uri": "https://localhost:8080/"
        },
        "outputId": "e4510c5c-bc7e-4982-c4db-ecf3b0bc51d1"
      },
      "source": [
        "%R class(DT$ID)"
      ],
      "execution_count": 19,
      "outputs": [
        {
          "output_type": "execute_result",
          "data": {
            "text/plain": [
              "array(['character'], dtype='<U9')"
            ]
          },
          "metadata": {
            "tags": []
          },
          "execution_count": 19
        }
      ]
    },
    {
      "cell_type": "markdown",
      "metadata": {
        "id": "4PFAfkaqVxGt"
      },
      "source": [
        "You can also convert existing objects to a data.table using `setDT( )` (for **data.frame**s and **list**s) and **as.data.table( )** (for other structures); the difference is beyond the scope of this vignette, see **?setDT** and **?as.data.table** for more details."
      ]
    },
    {
      "cell_type": "markdown",
      "metadata": {
        "id": "B0_FD9q0Wu-M"
      },
      "source": [
        "Note that:\n",
        "- Unlike data.frames, columns of character type are never converted to factors by default.\n",
        "- Row numbers are printed with a : in order to visually separate the row number from the first column.\n",
        "- When the number of rows to print exceeds the global option datatable.print.nrows (default = 100), it automatically prints only the top 5 and bottom 5 rows (as can be seen in the Data section). If you’ve had a lot of experience with data.frames, you may have found yourself waiting around while larger tables print-and-page, sometimes seemingly endlessly. You can query the default number like so:\n",
        "  ```R\n",
        "  %R getOption(\"datatable.print.nrows\")  # 결과 : array([100], dtype=int32)\n",
        "  ```\n",
        "- data.table doesn’t set or use row names, ever. We will see why in the “Keys and fast binary search based subset” vignette.\n"
      ]
    },
    {
      "cell_type": "markdown",
      "metadata": {
        "id": "Zyf0IBOnsuu6"
      },
      "source": [
        "**1-b) General form - in what way is a data.table enhanced?**\n",
        "\n",
        "In contrast to a **data.frame**, you can do a lot more than just subsetting rows and selecting columns within the frame of a **data.table**, i.e., within [ ... ] (**NB**: we might also refer to writing things inside DT[...] as “querying DT”, in analogy to SQL). To understand it we will have to first look at the general form of data.table syntax, as shown below:\n",
        "\n",
        "<font color='red'>DT[$i, j, by$]  # where '$i$' = **WHERE** or **ORDER BY**, '$j$' = **SELECT** or **UPDATE**, and '$by$' = **GROUP BY** in **SQL**</font> ☞ cf) [r-bloggers.com](https://www.r-bloggers.com/2016/12/comparing-a-mysql-query-with-a-data-table-in-r/)  \n",
        "```R\n",
        "##   R:                 i                      j                by\n",
        "## SQL:  where | order by        select | update          group by\n",
        "```\n",
        "Users who have an SQL background might perhaps immediately relate to this syntax.\n",
        "\n",
        "**The way to read it (out loud) is:**  \n",
        "\n",
        "Take DT, subset/reorder rows using $i$, then calculate $j$, grouped by $by$.\n",
        "\n",
        "Let's begin by looking at $i$ and $j$ first - subsetting rows and operating on columns.\n"
      ]
    },
    {
      "cell_type": "markdown",
      "metadata": {
        "id": "9sYGongkuaz7"
      },
      "source": [
        "**1-c) Subset rows in $i$**\n",
        "\n",
        "&nbsp; ─ Get all the flights with “JFK” as the origin airport in the month of June."
      ]
    },
    {
      "cell_type": "code",
      "metadata": {
        "colab": {
          "base_uri": "https://localhost:8080/",
          "height": 228
        },
        "id": "r9ZMkDN0vKd2",
        "outputId": "6ebf0f33-3777-4d23-a5a2-746f28bf9a3f"
      },
      "source": [
        "%R ans <- flights[origin == \"JFK\" & month == 6L]\n",
        "%R head(ans)"
      ],
      "execution_count": 23,
      "outputs": [
        {
          "output_type": "execute_result",
          "data": {
            "text/html": [
              "<div>\n",
              "<style scoped>\n",
              "    .dataframe tbody tr th:only-of-type {\n",
              "        vertical-align: middle;\n",
              "    }\n",
              "\n",
              "    .dataframe tbody tr th {\n",
              "        vertical-align: top;\n",
              "    }\n",
              "\n",
              "    .dataframe thead th {\n",
              "        text-align: right;\n",
              "    }\n",
              "</style>\n",
              "<table border=\"1\" class=\"dataframe\">\n",
              "  <thead>\n",
              "    <tr style=\"text-align: right;\">\n",
              "      <th></th>\n",
              "      <th>year</th>\n",
              "      <th>month</th>\n",
              "      <th>day</th>\n",
              "      <th>dep_delay</th>\n",
              "      <th>arr_delay</th>\n",
              "      <th>carrier</th>\n",
              "      <th>origin</th>\n",
              "      <th>dest</th>\n",
              "      <th>air_time</th>\n",
              "      <th>distance</th>\n",
              "      <th>hour</th>\n",
              "    </tr>\n",
              "  </thead>\n",
              "  <tbody>\n",
              "    <tr>\n",
              "      <th>1</th>\n",
              "      <td>2014</td>\n",
              "      <td>6</td>\n",
              "      <td>1</td>\n",
              "      <td>-9</td>\n",
              "      <td>-5</td>\n",
              "      <td>AA</td>\n",
              "      <td>JFK</td>\n",
              "      <td>LAX</td>\n",
              "      <td>324</td>\n",
              "      <td>2475</td>\n",
              "      <td>8</td>\n",
              "    </tr>\n",
              "    <tr>\n",
              "      <th>2</th>\n",
              "      <td>2014</td>\n",
              "      <td>6</td>\n",
              "      <td>1</td>\n",
              "      <td>-10</td>\n",
              "      <td>-13</td>\n",
              "      <td>AA</td>\n",
              "      <td>JFK</td>\n",
              "      <td>LAX</td>\n",
              "      <td>329</td>\n",
              "      <td>2475</td>\n",
              "      <td>12</td>\n",
              "    </tr>\n",
              "    <tr>\n",
              "      <th>3</th>\n",
              "      <td>2014</td>\n",
              "      <td>6</td>\n",
              "      <td>1</td>\n",
              "      <td>18</td>\n",
              "      <td>-1</td>\n",
              "      <td>AA</td>\n",
              "      <td>JFK</td>\n",
              "      <td>LAX</td>\n",
              "      <td>326</td>\n",
              "      <td>2475</td>\n",
              "      <td>7</td>\n",
              "    </tr>\n",
              "    <tr>\n",
              "      <th>4</th>\n",
              "      <td>2014</td>\n",
              "      <td>6</td>\n",
              "      <td>1</td>\n",
              "      <td>-6</td>\n",
              "      <td>-16</td>\n",
              "      <td>AA</td>\n",
              "      <td>JFK</td>\n",
              "      <td>LAX</td>\n",
              "      <td>320</td>\n",
              "      <td>2475</td>\n",
              "      <td>10</td>\n",
              "    </tr>\n",
              "    <tr>\n",
              "      <th>5</th>\n",
              "      <td>2014</td>\n",
              "      <td>6</td>\n",
              "      <td>1</td>\n",
              "      <td>-4</td>\n",
              "      <td>-45</td>\n",
              "      <td>AA</td>\n",
              "      <td>JFK</td>\n",
              "      <td>LAX</td>\n",
              "      <td>326</td>\n",
              "      <td>2475</td>\n",
              "      <td>18</td>\n",
              "    </tr>\n",
              "    <tr>\n",
              "      <th>6</th>\n",
              "      <td>2014</td>\n",
              "      <td>6</td>\n",
              "      <td>1</td>\n",
              "      <td>-6</td>\n",
              "      <td>-23</td>\n",
              "      <td>AA</td>\n",
              "      <td>JFK</td>\n",
              "      <td>LAX</td>\n",
              "      <td>329</td>\n",
              "      <td>2475</td>\n",
              "      <td>14</td>\n",
              "    </tr>\n",
              "  </tbody>\n",
              "</table>\n",
              "</div>"
            ],
            "text/plain": [
              "   year  month  day  dep_delay  arr_delay  ... origin dest air_time  distance  hour\n",
              "1  2014      6    1         -9         -5  ...    JFK  LAX      324      2475     8\n",
              "2  2014      6    1        -10        -13  ...    JFK  LAX      329      2475    12\n",
              "3  2014      6    1         18         -1  ...    JFK  LAX      326      2475     7\n",
              "4  2014      6    1         -6        -16  ...    JFK  LAX      320      2475    10\n",
              "5  2014      6    1         -4        -45  ...    JFK  LAX      326      2475    18\n",
              "6  2014      6    1         -6        -23  ...    JFK  LAX      329      2475    14\n",
              "\n",
              "[6 rows x 11 columns]"
            ]
          },
          "metadata": {
            "tags": []
          },
          "execution_count": 23
        }
      ]
    },
    {
      "cell_type": "markdown",
      "metadata": {
        "id": "rVARhVI5vcRX"
      },
      "source": [
        "- Within the frame of a **data.table**, columns can be referred to as if they are variables, much like in SQL or Stata. Therefore, we simply refer to ***origin*** and ***month*** as if they are variables. We do not need to add the prefix ***`flights$`*** each time. Nevertheless, using ***`flights$origin`*** and ***`flights$month`*** would work just fine.\n",
        "- The row indices that satisfy the condition origin == \"JFK\" & month == 6L are computed, and since there is nothing else left to do, all columns from flights at rows corresponding to those row indices are simply returned as a data.table.\n",
        "- A comma after the condition in i is not required. But flights[origin == \"JFK\" & month == 6L, ] would work just fine. In **data.frame**s, however, the comma is necessary.\n",
        "\n"
      ]
    },
    {
      "cell_type": "markdown",
      "metadata": {
        "id": "jkxnicirz_l6"
      },
      "source": [
        "─ Get the first two rows from ***flights***."
      ]
    },
    {
      "cell_type": "code",
      "metadata": {
        "colab": {
          "base_uri": "https://localhost:8080/",
          "height": 108
        },
        "id": "kgxDlzTn0If6",
        "outputId": "e4740646-b058-4477-cc30-4b036db8dbda"
      },
      "source": [
        "%R ans <- flights[1:2]; ans"
      ],
      "execution_count": 24,
      "outputs": [
        {
          "output_type": "execute_result",
          "data": {
            "text/html": [
              "<div>\n",
              "<style scoped>\n",
              "    .dataframe tbody tr th:only-of-type {\n",
              "        vertical-align: middle;\n",
              "    }\n",
              "\n",
              "    .dataframe tbody tr th {\n",
              "        vertical-align: top;\n",
              "    }\n",
              "\n",
              "    .dataframe thead th {\n",
              "        text-align: right;\n",
              "    }\n",
              "</style>\n",
              "<table border=\"1\" class=\"dataframe\">\n",
              "  <thead>\n",
              "    <tr style=\"text-align: right;\">\n",
              "      <th></th>\n",
              "      <th>year</th>\n",
              "      <th>month</th>\n",
              "      <th>day</th>\n",
              "      <th>dep_delay</th>\n",
              "      <th>arr_delay</th>\n",
              "      <th>carrier</th>\n",
              "      <th>origin</th>\n",
              "      <th>dest</th>\n",
              "      <th>air_time</th>\n",
              "      <th>distance</th>\n",
              "      <th>hour</th>\n",
              "    </tr>\n",
              "  </thead>\n",
              "  <tbody>\n",
              "    <tr>\n",
              "      <th>1</th>\n",
              "      <td>2014</td>\n",
              "      <td>1</td>\n",
              "      <td>1</td>\n",
              "      <td>14</td>\n",
              "      <td>13</td>\n",
              "      <td>AA</td>\n",
              "      <td>JFK</td>\n",
              "      <td>LAX</td>\n",
              "      <td>359</td>\n",
              "      <td>2475</td>\n",
              "      <td>9</td>\n",
              "    </tr>\n",
              "    <tr>\n",
              "      <th>2</th>\n",
              "      <td>2014</td>\n",
              "      <td>1</td>\n",
              "      <td>1</td>\n",
              "      <td>-3</td>\n",
              "      <td>13</td>\n",
              "      <td>AA</td>\n",
              "      <td>JFK</td>\n",
              "      <td>LAX</td>\n",
              "      <td>363</td>\n",
              "      <td>2475</td>\n",
              "      <td>11</td>\n",
              "    </tr>\n",
              "  </tbody>\n",
              "</table>\n",
              "</div>"
            ],
            "text/plain": [
              "   year  month  day  dep_delay  arr_delay  ... origin dest air_time  distance  hour\n",
              "1  2014      1    1         14         13  ...    JFK  LAX      359      2475     9\n",
              "2  2014      1    1         -3         13  ...    JFK  LAX      363      2475    11\n",
              "\n",
              "[2 rows x 11 columns]"
            ]
          },
          "metadata": {
            "tags": []
          },
          "execution_count": 24
        }
      ]
    },
    {
      "cell_type": "markdown",
      "metadata": {
        "id": "OomHShy80afR"
      },
      "source": [
        "- In this case, there is no condition. The row indices are already provided in $i$. We therefore return a **data.table** with all columns from flights at rows for those row indices."
      ]
    },
    {
      "cell_type": "markdown",
      "metadata": {
        "id": "qrZGCmh70qeD"
      },
      "source": [
        "─ Sort flights first by column origin in ascending order, and then by dest in descending order:  \n",
        "&nbsp; &nbsp; &nbsp;We can use the R function **order( )** to accomplish this."
      ]
    },
    {
      "cell_type": "code",
      "metadata": {
        "colab": {
          "base_uri": "https://localhost:8080/"
        },
        "id": "oWsHRunu04-0",
        "outputId": "940a77f2-542e-4b6b-bd11-fc017955e47c"
      },
      "source": [
        "%%R \n",
        "ans <- flights[order(origin, -dest)]; head(ans,3)  # line magic(%R)에서는 오류 발생"
      ],
      "execution_count": 35,
      "outputs": [
        {
          "output_type": "stream",
          "text": [
            "   year month day dep_delay arr_delay carrier origin dest air_time distance\n",
            "1: 2014     1   5         6        49      EV    EWR  XNA      195     1131\n",
            "2: 2014     1   6         7        13      EV    EWR  XNA      190     1131\n",
            "3: 2014     1   7        -6       -13      EV    EWR  XNA      179     1131\n",
            "   hour\n",
            "1:    8\n",
            "2:    8\n",
            "3:    8\n"
          ],
          "name": "stdout"
        }
      ]
    },
    {
      "cell_type": "markdown",
      "metadata": {
        "id": "x6ruTpYs2hm0"
      },
      "source": [
        "**1-d) Select column(s) in $j$**  \n",
        "─ Select arr_delay column, but return it as a vector."
      ]
    },
    {
      "cell_type": "code",
      "metadata": {
        "colab": {
          "base_uri": "https://localhost:8080/"
        },
        "id": "Pe3hub3X2qp3",
        "outputId": "e72f2b41-3e3b-446f-df50-802a50ce3b31"
      },
      "source": [
        "%R ans <- flights[, arr_delay]; head(ans)  # vector returned"
      ],
      "execution_count": 38,
      "outputs": [
        {
          "output_type": "execute_result",
          "data": {
            "text/plain": [
              "array([ 13,  13,   9, -26,   1,   0], dtype=int32)"
            ]
          },
          "metadata": {
            "tags": []
          },
          "execution_count": 38
        }
      ]
    },
    {
      "cell_type": "markdown",
      "metadata": {
        "id": "7hGFGlmt28ms"
      },
      "source": [
        "- Since columns can be referred to as if they are *variable*s within the frame of **data.table**s, we directly refer to the *variable* we want to subset. Since we want all the rows, we simply skip $i$.\n",
        "- It returns all the rows for the column *arr_delay*.\n",
        "\n"
      ]
    },
    {
      "cell_type": "markdown",
      "metadata": {
        "id": "PIWSAKp33QWk"
      },
      "source": [
        "─ Select *arr_delay* column, but return as a **data.table** instead."
      ]
    },
    {
      "cell_type": "code",
      "metadata": {
        "colab": {
          "base_uri": "https://localhost:8080/",
          "height": 138
        },
        "id": "0XNH9Ufm3SzZ",
        "outputId": "07942505-95a0-4146-8549-470e47ee5c30"
      },
      "source": [
        "%R ans <- flights[, list(arr_delay)]; head(ans,3)  # data.table returned"
      ],
      "execution_count": 40,
      "outputs": [
        {
          "output_type": "execute_result",
          "data": {
            "text/html": [
              "<div>\n",
              "<style scoped>\n",
              "    .dataframe tbody tr th:only-of-type {\n",
              "        vertical-align: middle;\n",
              "    }\n",
              "\n",
              "    .dataframe tbody tr th {\n",
              "        vertical-align: top;\n",
              "    }\n",
              "\n",
              "    .dataframe thead th {\n",
              "        text-align: right;\n",
              "    }\n",
              "</style>\n",
              "<table border=\"1\" class=\"dataframe\">\n",
              "  <thead>\n",
              "    <tr style=\"text-align: right;\">\n",
              "      <th></th>\n",
              "      <th>arr_delay</th>\n",
              "    </tr>\n",
              "  </thead>\n",
              "  <tbody>\n",
              "    <tr>\n",
              "      <th>1</th>\n",
              "      <td>13</td>\n",
              "    </tr>\n",
              "    <tr>\n",
              "      <th>2</th>\n",
              "      <td>13</td>\n",
              "    </tr>\n",
              "    <tr>\n",
              "      <th>3</th>\n",
              "      <td>9</td>\n",
              "    </tr>\n",
              "  </tbody>\n",
              "</table>\n",
              "</div>"
            ],
            "text/plain": [
              "   arr_delay\n",
              "1         13\n",
              "2         13\n",
              "3          9"
            ]
          },
          "metadata": {
            "tags": []
          },
          "execution_count": 40
        }
      ]
    },
    {
      "cell_type": "markdown",
      "metadata": {
        "id": "zRcxMVrb4bAk"
      },
      "source": [
        "- We wrap the **variable**s (column names) within 『list( )』, which ensures that a **data.table** is returned. In case of a single column name, not wrapping with 『list( )』 returns a **vector** instead, as seen in the previous example \"ans <- flights[, arr_delay]\".\n",
        "- **data.table** also allows wrapping columns with **『.( )』** instead of **『list()』**. It is an alias to 『list()』; they both mean the same. Feel free to use whichever you prefer; we have noticed most users seem to prefer 『.( )』 for conciseness, so we will continue to use 『.( )』 hereafter.\n",
        "\n",
        "**data.table**s (and **data.frame**s) are internally **list**s as well, with the stipulation that each element has the same length and the list has a class attribute. Allowing $j$ to return a list enables converting and returning **data.table** very efficiently.\n"
      ]
    },
    {
      "cell_type": "markdown",
      "metadata": {
        "id": "EBt9vdW853Ov"
      },
      "source": [
        "**Tip**: As long as $j$*-expression* returns a **list**, each element of the list will be converted to a column in the resulting **data.table**. This makes $j$ quite powerful, as we will see shortly. It is also very important to understand this for when you'd like to make more complicated queries!!\n"
      ]
    },
    {
      "cell_type": "markdown",
      "metadata": {
        "id": "PRS0D90V6IhO"
      },
      "source": [
        "─ Select both arr_delay and dep_delay columns."
      ]
    },
    {
      "cell_type": "code",
      "metadata": {
        "colab": {
          "base_uri": "https://localhost:8080/",
          "height": 138
        },
        "id": "r8-W_8jd6Lkx",
        "outputId": "841bb6ed-0808-4eeb-842b-5048197f0957"
      },
      "source": [
        "%R ans <- flights[, .(arr_delay, dep_delay)] ; head(ans,3)"
      ],
      "execution_count": 41,
      "outputs": [
        {
          "output_type": "execute_result",
          "data": {
            "text/html": [
              "<div>\n",
              "<style scoped>\n",
              "    .dataframe tbody tr th:only-of-type {\n",
              "        vertical-align: middle;\n",
              "    }\n",
              "\n",
              "    .dataframe tbody tr th {\n",
              "        vertical-align: top;\n",
              "    }\n",
              "\n",
              "    .dataframe thead th {\n",
              "        text-align: right;\n",
              "    }\n",
              "</style>\n",
              "<table border=\"1\" class=\"dataframe\">\n",
              "  <thead>\n",
              "    <tr style=\"text-align: right;\">\n",
              "      <th></th>\n",
              "      <th>arr_delay</th>\n",
              "      <th>dep_delay</th>\n",
              "    </tr>\n",
              "  </thead>\n",
              "  <tbody>\n",
              "    <tr>\n",
              "      <th>1</th>\n",
              "      <td>13</td>\n",
              "      <td>14</td>\n",
              "    </tr>\n",
              "    <tr>\n",
              "      <th>2</th>\n",
              "      <td>13</td>\n",
              "      <td>-3</td>\n",
              "    </tr>\n",
              "    <tr>\n",
              "      <th>3</th>\n",
              "      <td>9</td>\n",
              "      <td>2</td>\n",
              "    </tr>\n",
              "  </tbody>\n",
              "</table>\n",
              "</div>"
            ],
            "text/plain": [
              "   arr_delay  dep_delay\n",
              "1         13         14\n",
              "2         13         -3\n",
              "3          9          2"
            ]
          },
          "metadata": {
            "tags": []
          },
          "execution_count": 41
        }
      ]
    },
    {
      "cell_type": "markdown",
      "metadata": {
        "id": "bIZ5qcXO8lVL"
      },
      "source": [
        "- Wrap both columns within 『.( )』, or 『list( )』. That's it."
      ]
    },
    {
      "cell_type": "markdown",
      "metadata": {
        "id": "VVTEmdRa86_l"
      },
      "source": [
        "─ Select both arr_delay and dep_delay columns and rename them to delay_arr and delay_dep.  \n",
        "&nbsp; &nbsp; &nbsp;Since 『.( )』 is just an alias for 『list( )』, we can name columns as we would while creating a **list**.\n"
      ]
    },
    {
      "cell_type": "code",
      "metadata": {
        "id": "oeRJ8T7e9SkT",
        "outputId": "baefba14-6a27-451b-dad5-d08563006e62",
        "colab": {
          "base_uri": "https://localhost:8080/",
          "height": 138
        }
      },
      "source": [
        "%R ans <- flights[, .(delay_arr = arr_delay, delay_dep = dep_delay)]\n",
        "%R head(ans,3)"
      ],
      "execution_count": 43,
      "outputs": [
        {
          "output_type": "execute_result",
          "data": {
            "text/html": [
              "<div>\n",
              "<style scoped>\n",
              "    .dataframe tbody tr th:only-of-type {\n",
              "        vertical-align: middle;\n",
              "    }\n",
              "\n",
              "    .dataframe tbody tr th {\n",
              "        vertical-align: top;\n",
              "    }\n",
              "\n",
              "    .dataframe thead th {\n",
              "        text-align: right;\n",
              "    }\n",
              "</style>\n",
              "<table border=\"1\" class=\"dataframe\">\n",
              "  <thead>\n",
              "    <tr style=\"text-align: right;\">\n",
              "      <th></th>\n",
              "      <th>delay_arr</th>\n",
              "      <th>delay_dep</th>\n",
              "    </tr>\n",
              "  </thead>\n",
              "  <tbody>\n",
              "    <tr>\n",
              "      <th>1</th>\n",
              "      <td>13</td>\n",
              "      <td>14</td>\n",
              "    </tr>\n",
              "    <tr>\n",
              "      <th>2</th>\n",
              "      <td>13</td>\n",
              "      <td>-3</td>\n",
              "    </tr>\n",
              "    <tr>\n",
              "      <th>3</th>\n",
              "      <td>9</td>\n",
              "      <td>2</td>\n",
              "    </tr>\n",
              "  </tbody>\n",
              "</table>\n",
              "</div>"
            ],
            "text/plain": [
              "   delay_arr  delay_dep\n",
              "1         13         14\n",
              "2         13         -3\n",
              "3          9          2"
            ]
          },
          "metadata": {
            "tags": []
          },
          "execution_count": 43
        }
      ]
    },
    {
      "cell_type": "markdown",
      "metadata": {
        "id": "N67TmWgK-z1K"
      },
      "source": [
        "**1-e) Compute or do more than just $selecting~columns$ in $j$**"
      ]
    },
    {
      "cell_type": "markdown",
      "metadata": {
        "id": "OoNwCzKG-8rH"
      },
      "source": [
        "─ How many trips have had total delay < 0?"
      ]
    },
    {
      "cell_type": "code",
      "metadata": {
        "id": "BNHSIAc0-_q9",
        "outputId": "6c284fe0-7834-4bb4-9e14-74a544b99be7",
        "colab": {
          "base_uri": "https://localhost:8080/"
        }
      },
      "source": [
        "%R ans <- flights[, sum( (arr_delay + dep_delay) < 0 )] ; ans"
      ],
      "execution_count": 44,
      "outputs": [
        {
          "output_type": "execute_result",
          "data": {
            "text/plain": [
              "array([141814], dtype=int32)"
            ]
          },
          "metadata": {
            "tags": []
          },
          "execution_count": 44
        }
      ]
    },
    {
      "cell_type": "markdown",
      "metadata": {
        "id": "NsUyUGq3Emz5"
      },
      "source": [
        "**1-f) Subset in i and do in j**  \n",
        "─ Calculate the average arrival and departure delay for all flights with “JFK” as the origin airport in the month of June."
      ]
    },
    {
      "cell_type": "code",
      "metadata": {
        "id": "_WXEpcZZE5nB",
        "outputId": "17781988-c3ea-49fa-d7aa-cbd60fead34c",
        "colab": {
          "base_uri": "https://localhost:8080/"
        }
      },
      "source": [
        "%%R\n",
        "ans <- flights[origin == \"JFK\" & month == 6L,\n",
        "               .(m_arr = mean(arr_delay), m_dep = mean(dep_delay))]\n",
        "ans               "
      ],
      "execution_count": 45,
      "outputs": [
        {
          "output_type": "stream",
          "text": [
            "      m_arr    m_dep\n",
            "1: 5.839349 9.807884\n"
          ],
          "name": "stdout"
        }
      ]
    },
    {
      "cell_type": "markdown",
      "metadata": {
        "id": "QQqMjFP6Ff91"
      },
      "source": [
        "─ How many trips have been made in 2014 from “JFK” airport in the month of June?"
      ]
    },
    {
      "cell_type": "code",
      "metadata": {
        "id": "W0BTf_SuFiMk",
        "outputId": "6f64bc0a-a18b-4b27-94c4-0b468e6b63b4",
        "colab": {
          "base_uri": "https://localhost:8080/"
        }
      },
      "source": [
        "%R ans <- flights[origin == \"JFK\" & month == 6L, length(dest)]; ans"
      ],
      "execution_count": 46,
      "outputs": [
        {
          "output_type": "execute_result",
          "data": {
            "text/plain": [
              "array([8422], dtype=int32)"
            ]
          },
          "metadata": {
            "tags": []
          },
          "execution_count": 46
        }
      ]
    },
    {
      "cell_type": "markdown",
      "metadata": {
        "id": "6Fvxr2XoF3U8"
      },
      "source": [
        "The function **length( )** requires an input argument. We just needed to compute the number of rows in the subset. We could have used any other column as input argument to **length( )** really. This approach is reminiscent of `SELECT COUNT(dest) FROM flights WHERE origin = 'JFK' AND month = 6` in SQL.\n",
        "\n",
        "This type of operation occurs quite frequently, especially while grouping (as we will see in the next section), to the point where **data.table** provides a special symbol 『 .N 』 for it.\n"
      ]
    },
    {
      "cell_type": "markdown",
      "metadata": {
        "id": "EFaPtNGiGPsY"
      },
      "source": [
        "─ Special symbol .N  \n",
        "『 .N 』 is a special built-in variable that holds the number of observations in the current group. It is particularly useful when combined with by as we’ll see in the next section. In the absence of group by operations, it simply returns the number of rows in the subset.\n",
        "\n",
        "So we can now accomplish the same task by using 『 .N 』 as follows:"
      ]
    },
    {
      "cell_type": "code",
      "metadata": {
        "id": "HzYBTrWAGnHy",
        "outputId": "ca97f325-531c-460e-cc5e-663683146dae",
        "colab": {
          "base_uri": "https://localhost:8080/"
        }
      },
      "source": [
        "%R ans <- flights[origin == \"JFK\" & month == 6L, .N]; ans"
      ],
      "execution_count": 47,
      "outputs": [
        {
          "output_type": "execute_result",
          "data": {
            "text/plain": [
              "array([8422], dtype=int32)"
            ]
          },
          "metadata": {
            "tags": []
          },
          "execution_count": 47
        }
      ]
    },
    {
      "cell_type": "markdown",
      "metadata": {
        "id": "FXV-uZkWGtUZ"
      },
      "source": [
        "- Once again, we subset in i to get the row indices where origin airport equals “JFK”, and month equals 6.\n",
        "- ◦We see that j uses only .N and no other columns. Therefore the entire subset is not materialised. We simply return the number of rows in the subset (which is just the length of row indices).\n",
        "- ◦Note that we did not wrap .N with list() or .(). Therefore a vector is returned.\n",
        "\n",
        "We could have accomplished the same operation by doing **nrow(flights[origin == \"JFK\" & month == 6L])**. However, it would have to subset the entire **data.table** first corresponding to the ***row indices*** in $i$ and then return the rows using **nrow( )**, which is unnecessary and inefficient. We will cover this and other optimisation aspects in detail under the **data.table** ***design*** vignette.\n"
      ]
    },
    {
      "cell_type": "markdown",
      "metadata": {
        "id": "88yN4UJInA3L"
      },
      "source": [
        "## dplyr : Data Transformation"
      ]
    },
    {
      "cell_type": "markdown",
      "metadata": {
        "id": "NYie-cAkV6UU"
      },
      "source": [
        "![https://ugoproto.github.io/ugo_r_doc/specializations_cs/](https://ugoproto.github.io/ugo_r_doc/img/specialization_cs/dplyra.png)"
      ]
    },
    {
      "cell_type": "markdown",
      "metadata": {
        "id": "VYLzY6zeV8kn"
      },
      "source": [
        "![https://ugoproto.github.io/ugo_r_doc/specializations_cs/](https://ugoproto.github.io/ugo_r_doc/img/specialization_cs/dplyrb.png)"
      ]
    },
    {
      "cell_type": "markdown",
      "metadata": {
        "id": "10QILaEnmBSU"
      },
      "source": [
        "## Advanced R\n",
        "\n",
        "* https://rstudio.com/resources/cheatsheets/ ; https://ugoproto.github.io/ugo_r_doc/basics_cs/"
      ]
    },
    {
      "cell_type": "markdown",
      "metadata": {
        "id": "n9-8ufI0OVoG"
      },
      "source": [
        "![https://ugoproto.github.io/ugo_r_doc/basics_cs/](https://ugoproto.github.io/ugo_r_doc/img/advanced_r_cs/AdvancedRa.png)"
      ]
    },
    {
      "cell_type": "markdown",
      "metadata": {
        "id": "iO-_QNQ-O0XF"
      },
      "source": [
        "![https://ugoproto.github.io/ugo_r_doc/basics_cs/](https://ugoproto.github.io/ugo_r_doc/img/advanced_r_cs/AdvancedRb.png)"
      ]
    },
    {
      "cell_type": "markdown",
      "metadata": {
        "id": "jcjsG7LoO4T3"
      },
      "source": [
        "![https://ugoproto.github.io/ugo_r_doc/basics_cs/](https://ugoproto.github.io/ugo_r_doc/img/advanced_r_cs/AdvancedRc.png)"
      ]
    },
    {
      "cell_type": "markdown",
      "metadata": {
        "id": "F9-0YB4pO5f2"
      },
      "source": [
        "![https://ugoproto.github.io/ugo_r_doc/basics_cs/](https://ugoproto.github.io/ugo_r_doc/img/advanced_r_cs/AdvancedRd.png)"
      ]
    },
    {
      "cell_type": "markdown",
      "metadata": {
        "id": "pSEZNw2DO7x1"
      },
      "source": [
        "![https://ugoproto.github.io/ugo_r_doc/basics_cs/](https://ugoproto.github.io/ugo_r_doc/img/advanced_r_cs/AdvancedRe.png)"
      ]
    },
    {
      "cell_type": "markdown",
      "metadata": {
        "id": "K9dWtx2wmyI5"
      },
      "source": [
        "## stringr"
      ]
    },
    {
      "cell_type": "markdown",
      "metadata": {
        "id": "Jx50zXjynfaZ"
      },
      "source": [
        "## Basic Regular Expressions"
      ]
    },
    {
      "cell_type": "markdown",
      "metadata": {
        "id": "kb6wi97Cn9QF"
      },
      "source": [
        "## tidyverse"
      ]
    },
    {
      "cell_type": "markdown",
      "metadata": {
        "id": "n6t6iWPVnIXv"
      },
      "source": [
        "## ggplot2 : Data Visualization"
      ]
    },
    {
      "cell_type": "markdown",
      "metadata": {
        "id": "5BnMEpA4m4nx"
      },
      "source": [
        "## purrr : apply functions"
      ]
    },
    {
      "cell_type": "markdown",
      "metadata": {
        "id": "_SlAdTJBnY84"
      },
      "source": [
        "## caret"
      ]
    },
    {
      "cell_type": "markdown",
      "metadata": {
        "id": "WjzXeg17n2V_"
      },
      "source": [
        "## tidymodels"
      ]
    },
    {
      "cell_type": "markdown",
      "metadata": {
        "id": "wkrpyniLmvHe"
      },
      "source": [
        "## keras"
      ]
    },
    {
      "cell_type": "markdown",
      "metadata": {
        "id": "ckn4DwEbnMc-"
      },
      "source": [
        "## devtools : Package Development"
      ]
    }
  ]
}